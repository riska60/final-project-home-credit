{
 "cells": [
  {
   "cell_type": "markdown",
   "id": "77df25d2-291d-4281-a709-50429e57854b",
   "metadata": {},
   "source": [
    "### Data Visualization"
   ]
  },
  {
   "cell_type": "markdown",
   "id": "0a1cd793-de13-44e9-8f34-e647783f35f8",
   "metadata": {},
   "source": [
    "#### Import data"
   ]
  },
  {
   "cell_type": "code",
   "execution_count": 17,
   "id": "156ccf34-8ada-4643-8edb-15176563f665",
   "metadata": {},
   "outputs": [],
   "source": [
    "import pandas as pd\n",
    "import sklearn\n",
    "import numpy as np\n",
    "import matplotlib.pyplot as plt\n",
    "import os\n",
    "import warnings\n",
    "\n",
    "# Visualization\n",
    "import seaborn as sns\n",
    "import matplotlib.pyplot as plt\n",
    "\n",
    "# Display Setting\n",
    "pd.set_option('display.max_columns', None)\n",
    "pd.set_option('display.max_rows', None)\n",
    "\n",
    "\n",
    "# Suppress warnings \n",
    "import warnings\n",
    "warnings.filterwarnings('ignore')\n",
    "\n",
    "# Pre-Processing\n",
    "from sklearn.preprocessing import LabelEncoder\n",
    "from sklearn.feature_selection import SelectKBest\n",
    "from sklearn.feature_selection import chi2\n",
    "from sklearn.utils import resample\n",
    "from sklearn.model_selection import train_test_split \n",
    "from sklearn.preprocessing import StandardScaler \n",
    "\n",
    "# Modelling\n",
    "from sklearn.linear_model import LogisticRegression \n",
    "from sklearn.naive_bayes import GaussianNB \n",
    "from sklearn import tree\n",
    "from sklearn.tree import DecisionTreeClassifier\n",
    "from sklearn.ensemble import RandomForestClassifier \n",
    "from sklearn.neural_network import MLPClassifier \n",
    "\n",
    "# Metric evaluation\n",
    "from sklearn.metrics import classification_report \n",
    "from sklearn.metrics import confusion_matrix\n",
    "from sklearn.metrics import roc_auc_score\n"
   ]
  },
  {
   "cell_type": "code",
   "execution_count": 5,
   "id": "f8f6a715-f70b-4f86-b790-69d96388fad9",
   "metadata": {},
   "outputs": [
    {
     "data": {
      "text/html": [
       "<div>\n",
       "<style scoped>\n",
       "    .dataframe tbody tr th:only-of-type {\n",
       "        vertical-align: middle;\n",
       "    }\n",
       "\n",
       "    .dataframe tbody tr th {\n",
       "        vertical-align: top;\n",
       "    }\n",
       "\n",
       "    .dataframe thead th {\n",
       "        text-align: right;\n",
       "    }\n",
       "</style>\n",
       "<table border=\"1\" class=\"dataframe\">\n",
       "  <thead>\n",
       "    <tr style=\"text-align: right;\">\n",
       "      <th></th>\n",
       "      <th>Unnamed: 0</th>\n",
       "      <th>TARGET</th>\n",
       "      <th>NAME_CONTRACT_TYPE</th>\n",
       "      <th>CODE_GENDER</th>\n",
       "      <th>FLAG_OWN_CAR</th>\n",
       "      <th>FLAG_OWN_REALTY</th>\n",
       "      <th>CNT_CHILDREN</th>\n",
       "      <th>AMT_INCOME_TOTAL</th>\n",
       "      <th>AMT_CREDIT</th>\n",
       "      <th>AMT_ANNUITY</th>\n",
       "      <th>...</th>\n",
       "      <th>EXT_SOURCE_2</th>\n",
       "      <th>EXT_SOURCE_3</th>\n",
       "      <th>AGE</th>\n",
       "      <th>YEARS_EMPLOYED</th>\n",
       "      <th>YEARS_ID</th>\n",
       "      <th>YEARS_ID_CHANGE</th>\n",
       "      <th>FLAG_DOCUMENT_3</th>\n",
       "      <th>FLAG_DOCUMENT_2</th>\n",
       "      <th>FLAG_DOCUMENT_6</th>\n",
       "      <th>YEARS_LAST_PHONE_CHANGE</th>\n",
       "    </tr>\n",
       "  </thead>\n",
       "  <tbody>\n",
       "    <tr>\n",
       "      <th>0</th>\n",
       "      <td>0</td>\n",
       "      <td>Payment Difficulties</td>\n",
       "      <td>Cash loans</td>\n",
       "      <td>M</td>\n",
       "      <td>N</td>\n",
       "      <td>Y</td>\n",
       "      <td>0</td>\n",
       "      <td>202500.0</td>\n",
       "      <td>406597.5</td>\n",
       "      <td>24700.5</td>\n",
       "      <td>...</td>\n",
       "      <td>0.262949</td>\n",
       "      <td>0.139376</td>\n",
       "      <td>25</td>\n",
       "      <td>1</td>\n",
       "      <td>5</td>\n",
       "      <td>9</td>\n",
       "      <td>1</td>\n",
       "      <td>0</td>\n",
       "      <td>0</td>\n",
       "      <td>3.0</td>\n",
       "    </tr>\n",
       "    <tr>\n",
       "      <th>1</th>\n",
       "      <td>2</td>\n",
       "      <td>No Payment Difficulties</td>\n",
       "      <td>Revolving loans</td>\n",
       "      <td>M</td>\n",
       "      <td>Y</td>\n",
       "      <td>Y</td>\n",
       "      <td>0</td>\n",
       "      <td>67500.0</td>\n",
       "      <td>135000.0</td>\n",
       "      <td>6750.0</td>\n",
       "      <td>...</td>\n",
       "      <td>0.555912</td>\n",
       "      <td>0.729567</td>\n",
       "      <td>52</td>\n",
       "      <td>0</td>\n",
       "      <td>6</td>\n",
       "      <td>11</td>\n",
       "      <td>0</td>\n",
       "      <td>0</td>\n",
       "      <td>0</td>\n",
       "      <td>2.0</td>\n",
       "    </tr>\n",
       "    <tr>\n",
       "      <th>2</th>\n",
       "      <td>5</td>\n",
       "      <td>No Payment Difficulties</td>\n",
       "      <td>Cash loans</td>\n",
       "      <td>M</td>\n",
       "      <td>N</td>\n",
       "      <td>Y</td>\n",
       "      <td>0</td>\n",
       "      <td>99000.0</td>\n",
       "      <td>490495.5</td>\n",
       "      <td>27517.5</td>\n",
       "      <td>...</td>\n",
       "      <td>0.354225</td>\n",
       "      <td>0.621226</td>\n",
       "      <td>46</td>\n",
       "      <td>4</td>\n",
       "      <td>1</td>\n",
       "      <td>13</td>\n",
       "      <td>1</td>\n",
       "      <td>0</td>\n",
       "      <td>0</td>\n",
       "      <td>6.0</td>\n",
       "    </tr>\n",
       "    <tr>\n",
       "      <th>3</th>\n",
       "      <td>6</td>\n",
       "      <td>No Payment Difficulties</td>\n",
       "      <td>Cash loans</td>\n",
       "      <td>F</td>\n",
       "      <td>Y</td>\n",
       "      <td>Y</td>\n",
       "      <td>1</td>\n",
       "      <td>171000.0</td>\n",
       "      <td>1560726.0</td>\n",
       "      <td>41301.0</td>\n",
       "      <td>...</td>\n",
       "      <td>0.724000</td>\n",
       "      <td>0.492060</td>\n",
       "      <td>37</td>\n",
       "      <td>8</td>\n",
       "      <td>1</td>\n",
       "      <td>3</td>\n",
       "      <td>0</td>\n",
       "      <td>0</td>\n",
       "      <td>0</td>\n",
       "      <td>4.0</td>\n",
       "    </tr>\n",
       "    <tr>\n",
       "      <th>4</th>\n",
       "      <td>7</td>\n",
       "      <td>No Payment Difficulties</td>\n",
       "      <td>Cash loans</td>\n",
       "      <td>M</td>\n",
       "      <td>Y</td>\n",
       "      <td>Y</td>\n",
       "      <td>0</td>\n",
       "      <td>360000.0</td>\n",
       "      <td>1530000.0</td>\n",
       "      <td>42075.0</td>\n",
       "      <td>...</td>\n",
       "      <td>0.714279</td>\n",
       "      <td>0.540654</td>\n",
       "      <td>51</td>\n",
       "      <td>1</td>\n",
       "      <td>6</td>\n",
       "      <td>12</td>\n",
       "      <td>1</td>\n",
       "      <td>0</td>\n",
       "      <td>0</td>\n",
       "      <td>2.0</td>\n",
       "    </tr>\n",
       "  </tbody>\n",
       "</table>\n",
       "<p>5 rows × 39 columns</p>\n",
       "</div>"
      ],
      "text/plain": [
       "   Unnamed: 0                   TARGET NAME_CONTRACT_TYPE CODE_GENDER  \\\n",
       "0           0     Payment Difficulties         Cash loans           M   \n",
       "1           2  No Payment Difficulties    Revolving loans           M   \n",
       "2           5  No Payment Difficulties         Cash loans           M   \n",
       "3           6  No Payment Difficulties         Cash loans           F   \n",
       "4           7  No Payment Difficulties         Cash loans           M   \n",
       "\n",
       "  FLAG_OWN_CAR FLAG_OWN_REALTY  CNT_CHILDREN  AMT_INCOME_TOTAL  AMT_CREDIT  \\\n",
       "0            N               Y             0          202500.0    406597.5   \n",
       "1            Y               Y             0           67500.0    135000.0   \n",
       "2            N               Y             0           99000.0    490495.5   \n",
       "3            Y               Y             1          171000.0   1560726.0   \n",
       "4            Y               Y             0          360000.0   1530000.0   \n",
       "\n",
       "   AMT_ANNUITY  ...  EXT_SOURCE_2 EXT_SOURCE_3 AGE YEARS_EMPLOYED YEARS_ID  \\\n",
       "0      24700.5  ...      0.262949     0.139376  25              1        5   \n",
       "1       6750.0  ...      0.555912     0.729567  52              0        6   \n",
       "2      27517.5  ...      0.354225     0.621226  46              4        1   \n",
       "3      41301.0  ...      0.724000     0.492060  37              8        1   \n",
       "4      42075.0  ...      0.714279     0.540654  51              1        6   \n",
       "\n",
       "  YEARS_ID_CHANGE  FLAG_DOCUMENT_3  FLAG_DOCUMENT_2  FLAG_DOCUMENT_6  \\\n",
       "0               9                1                0                0   \n",
       "1              11                0                0                0   \n",
       "2              13                1                0                0   \n",
       "3               3                0                0                0   \n",
       "4              12                1                0                0   \n",
       "\n",
       "   YEARS_LAST_PHONE_CHANGE  \n",
       "0                      3.0  \n",
       "1                      2.0  \n",
       "2                      6.0  \n",
       "3                      4.0  \n",
       "4                      2.0  \n",
       "\n",
       "[5 rows x 39 columns]"
      ]
     },
     "execution_count": 5,
     "metadata": {},
     "output_type": "execute_result"
    }
   ],
   "source": [
    "df = pd.read_csv(r'C:\\Users\\User\\Downloads\\VIX week 4\\train_clean.csv')\n",
    "df.head()"
   ]
  },
  {
   "cell_type": "code",
   "execution_count": 9,
   "id": "47df9ed6-2229-42e9-a481-9f227c67c482",
   "metadata": {},
   "outputs": [],
   "source": [
    "df.drop(columns=['Unnamed: 0'],axis=1,inplace=True)"
   ]
  },
  {
   "cell_type": "code",
   "execution_count": 11,
   "id": "9f5f4804-969d-41c7-a6d2-8a677102132e",
   "metadata": {},
   "outputs": [
    {
     "data": {
      "text/html": [
       "<style type=\"text/css\">\n",
       "#T_c28ae_row0_col1 {\n",
       "  background-color: #08306b;\n",
       "  color: #f1f1f1;\n",
       "}\n",
       "#T_c28ae_row1_col1 {\n",
       "  background-color: #f7fbff;\n",
       "  color: #000000;\n",
       "}\n",
       "</style>\n",
       "<table id=\"T_c28ae\">\n",
       "  <thead>\n",
       "    <tr>\n",
       "      <th class=\"blank level0\" >&nbsp;</th>\n",
       "      <th id=\"T_c28ae_level0_col0\" class=\"col_heading level0 col0\" >TARGET</th>\n",
       "      <th id=\"T_c28ae_level0_col1\" class=\"col_heading level0 col1\" >COUNT</th>\n",
       "    </tr>\n",
       "  </thead>\n",
       "  <tbody>\n",
       "    <tr>\n",
       "      <th id=\"T_c28ae_level0_row0\" class=\"row_heading level0 row0\" >0</th>\n",
       "      <td id=\"T_c28ae_row0_col0\" class=\"data row0 col0\" >No Payment Difficulties</td>\n",
       "      <td id=\"T_c28ae_row0_col1\" class=\"data row0 col1\" >225964</td>\n",
       "    </tr>\n",
       "    <tr>\n",
       "      <th id=\"T_c28ae_level0_row1\" class=\"row_heading level0 row1\" >1</th>\n",
       "      <td id=\"T_c28ae_row1_col0\" class=\"data row1 col0\" >Payment Difficulties</td>\n",
       "      <td id=\"T_c28ae_row1_col1\" class=\"data row1 col1\" >19059</td>\n",
       "    </tr>\n",
       "  </tbody>\n",
       "</table>\n"
      ],
      "text/plain": [
       "<pandas.io.formats.style.Styler at 0x263fce93130>"
      ]
     },
     "execution_count": 11,
     "metadata": {},
     "output_type": "execute_result"
    }
   ],
   "source": [
    "target_grp = (df[['TARGET']]\n",
    "                .groupby(\"TARGET\")\n",
    "                .agg(COUNT=(\"TARGET\",\"count\"))\n",
    "                .sort_values(by=[\"COUNT\"],ascending=False)\n",
    "                .reset_index()\n",
    "                )\n",
    "\n",
    "target_grp.style.background_gradient(cmap='Blues')"
   ]
  },
  {
   "cell_type": "code",
   "execution_count": 13,
   "id": "9a1077cd-576f-400f-bfaf-7e2f17abb2a7",
   "metadata": {},
   "outputs": [
    {
     "data": {
      "text/html": [
       "<style type=\"text/css\">\n",
       "#T_56e05_row0_col1 {\n",
       "  background-color: #08306b;\n",
       "  color: #f1f1f1;\n",
       "}\n",
       "#T_56e05_row1_col1 {\n",
       "  background-color: #f7fbff;\n",
       "  color: #000000;\n",
       "}\n",
       "</style>\n",
       "<table id=\"T_56e05\">\n",
       "  <thead>\n",
       "    <tr>\n",
       "      <th class=\"blank level0\" >&nbsp;</th>\n",
       "      <th id=\"T_56e05_level0_col0\" class=\"col_heading level0 col0\" >index</th>\n",
       "      <th id=\"T_56e05_level0_col1\" class=\"col_heading level0 col1\" >TARGET</th>\n",
       "    </tr>\n",
       "  </thead>\n",
       "  <tbody>\n",
       "    <tr>\n",
       "      <th id=\"T_56e05_level0_row0\" class=\"row_heading level0 row0\" >0</th>\n",
       "      <td id=\"T_56e05_row0_col0\" class=\"data row0 col0\" >No Payment Difficulties</td>\n",
       "      <td id=\"T_56e05_row0_col1\" class=\"data row0 col1\" >0.922215</td>\n",
       "    </tr>\n",
       "    <tr>\n",
       "      <th id=\"T_56e05_level0_row1\" class=\"row_heading level0 row1\" >1</th>\n",
       "      <td id=\"T_56e05_row1_col0\" class=\"data row1 col0\" >Payment Difficulties</td>\n",
       "      <td id=\"T_56e05_row1_col1\" class=\"data row1 col1\" >0.077785</td>\n",
       "    </tr>\n",
       "  </tbody>\n",
       "</table>\n"
      ],
      "text/plain": [
       "<pandas.io.formats.style.Styler at 0x26384522760>"
      ]
     },
     "execution_count": 13,
     "metadata": {},
     "output_type": "execute_result"
    }
   ],
   "source": [
    "grp = df['TARGET'].value_counts(normalize=True)\n",
    "grp.reset_index().style.background_gradient(cmap='Blues')"
   ]
  },
  {
   "cell_type": "code",
   "execution_count": 15,
   "id": "b3131aaf-b45b-461f-908b-056016a06806",
   "metadata": {},
   "outputs": [
    {
     "data": {
      "image/png": "[encoded data removed]",
      "text/plain": [
       "<Figure size 432x288 with 1 Axes>"
      ]
     },
     "metadata": {},
     "output_type": "display_data"
    }
   ],
   "source": [
    "label = ('0', '1')\n",
    "color = ('orange','firebrick')\n",
    "explode = (0, 0.2)\n",
    "\n",
    "plt.title('TARGET')\n",
    "plt.pie(\n",
    "    df.TARGET.value_counts(),\n",
    "    labels=label,\n",
    "    autopct='%1.2f%%',\n",
    "    colors=color,\n",
    "    explode=explode,\n",
    "    shadow=True\n",
    ")\n",
    "plt.show()"
   ]
  },
  {
   "cell_type": "markdown",
   "id": "1d65abd2-2610-49b2-96c1-49b7702bba4d",
   "metadata": {},
   "source": [
    "Ada 92% pinjaman yang setara dengan sekitar 282K dengan TARGET = 0, yang menunjukkan bahwa klien tidak memiliki masalah dalam membayar kembali pinjaman dalam waktu tertentu. Sementara hanya 8% dari total pinjaman (sekitar 24 ribu pelamar) dalam dataset ini melibatkan klien yang mengalami masalah dalam membayar kembali pinjaman."
   ]
  },
  {
   "cell_type": "code",
   "execution_count": 19,
   "id": "975d465f-a8b0-4041-b74d-6aa876394fa3",
   "metadata": {},
   "outputs": [
    {
     "data": {
      "text/plain": [
       "<AxesSubplot:xlabel='AMT_CREDIT', ylabel='Density'>"
      ]
     },
     "execution_count": 19,
     "metadata": {},
     "output_type": "execute_result"
    },
    {
     "data": {
      "image/png": "[encoded data removed]",
      "text/plain": [
       "<Figure size 432x288 with 1 Axes>"
      ]
     },
     "metadata": {
      "needs_background": "light"
     },
     "output_type": "display_data"
    }
   ],
   "source": [
    "sns.distplot(df['AMT_CREDIT'])"
   ]
  },
  {
   "cell_type": "code",
   "execution_count": 24,
   "id": "02182bb5-d7a8-4c60-b979-7e4102d85756",
   "metadata": {},
   "outputs": [
    {
     "name": "stdout",
     "output_type": "stream",
     "text": [
      "Jumlah kredit macet:  10825542936.0\n",
      "Jumlah kredit keseluruhan:  148954780939.5\n",
      "Rasio jumlah kredit macet terhadap keseluruhan kredit:  7.3 %\n"
     ]
    }
   ],
   "source": [
    "print('Jumlah kredit macet: ', df[df['TARGET']=='Payment Difficulties']['AMT_CREDIT'].sum())\n",
    "print('Jumlah kredit keseluruhan: ',df['AMT_CREDIT'].sum())\n",
    "print('Rasio jumlah kredit macet terhadap keseluruhan kredit: ',round(df[df['TARGET']== 'Payment Difficulties']['AMT_CREDIT'].sum()/df['AMT_CREDIT'].sum()*100,1),\"%\")"
   ]
  },
  {
   "cell_type": "code",
   "execution_count": 25,
   "id": "705694f8-6af3-4acf-b7a1-b642878bf0fb",
   "metadata": {},
   "outputs": [
    {
     "data": {
      "image/png": "[encoded data removed]",
      "text/plain": [
       "<Figure size 432x288 with 1 Axes>"
      ]
     },
     "metadata": {},
     "output_type": "display_data"
    }
   ],
   "source": [
    "label = ('0', '1')\n",
    "color = ('orange','firebrick')\n",
    "explode = (0, 0.2)\n",
    "\n",
    "plt.title('NAME_CONTRACT_TYPE')\n",
    "plt.pie(\n",
    "    df.TARGET.value_counts(),\n",
    "    labels=label,\n",
    "    autopct='%1.2f%%',\n",
    "    colors=color,\n",
    "    explode=explode,\n",
    "    shadow=True\n",
    ")\n",
    "plt.show()"
   ]
  },
  {
   "cell_type": "markdown",
   "id": "49cd1104-3ecc-4458-9cb8-cd6a1c786666",
   "metadata": {},
   "source": [
    "### Profile, Pekerjaan, dan Instansi"
   ]
  },
  {
   "cell_type": "markdown",
   "id": "f13d6046-709e-4d6c-8747-27ba476f65ae",
   "metadata": {},
   "source": [
    "#### Gender"
   ]
  },
  {
   "cell_type": "code",
   "execution_count": 41,
   "id": "647f8915-7a69-4d5e-bff8-7f8c00872b19",
   "metadata": {},
   "outputs": [],
   "source": [
    "bygender=df.groupby('CODE_GENDER')"
   ]
  },
  {
   "cell_type": "code",
   "execution_count": 42,
   "id": "3123a65c-0f2c-4d9b-bdef-9cc27c9e0412",
   "metadata": {},
   "outputs": [],
   "source": [
    "df['CODE_GENDER'] = df['CODE_GENDER'].replace(['F','M'],['Female','Male'])"
   ]
  },
  {
   "cell_type": "code",
   "execution_count": 43,
   "id": "a1ac60a1-69d4-4de4-9a8f-f160eed2a79d",
   "metadata": {},
   "outputs": [
    {
     "data": {
      "text/html": [
       "<div>\n",
       "<style scoped>\n",
       "    .dataframe tbody tr th:only-of-type {\n",
       "        vertical-align: middle;\n",
       "    }\n",
       "\n",
       "    .dataframe tbody tr th {\n",
       "        vertical-align: top;\n",
       "    }\n",
       "\n",
       "    .dataframe thead th {\n",
       "        text-align: right;\n",
       "    }\n",
       "</style>\n",
       "<table border=\"1\" class=\"dataframe\">\n",
       "  <thead>\n",
       "    <tr style=\"text-align: right;\">\n",
       "      <th></th>\n",
       "      <th>CODE_GENDER</th>\n",
       "      <th>AMT_CREDIT</th>\n",
       "    </tr>\n",
       "  </thead>\n",
       "  <tbody>\n",
       "    <tr>\n",
       "      <th>0</th>\n",
       "      <td>Female</td>\n",
       "      <td>9.782772e+10</td>\n",
       "    </tr>\n",
       "    <tr>\n",
       "      <th>1</th>\n",
       "      <td>Male</td>\n",
       "      <td>5.112706e+10</td>\n",
       "    </tr>\n",
       "  </tbody>\n",
       "</table>\n",
       "</div>"
      ],
      "text/plain": [
       "  CODE_GENDER    AMT_CREDIT\n",
       "0      Female  9.782772e+10\n",
       "1        Male  5.112706e+10"
      ]
     },
     "execution_count": 43,
     "metadata": {},
     "output_type": "execute_result"
    }
   ],
   "source": [
    "\n",
    "pd.DataFrame(bygender['AMT_CREDIT'].sum()).reset_index()"
   ]
  },
  {
   "cell_type": "code",
   "execution_count": 44,
   "id": "088ef3ed-8e8a-4a1f-9471-32f6de3b918f",
   "metadata": {},
   "outputs": [
    {
     "data": {
      "text/html": [
       "<div>\n",
       "<style scoped>\n",
       "    .dataframe tbody tr th:only-of-type {\n",
       "        vertical-align: middle;\n",
       "    }\n",
       "\n",
       "    .dataframe tbody tr th {\n",
       "        vertical-align: top;\n",
       "    }\n",
       "\n",
       "    .dataframe thead th {\n",
       "        text-align: right;\n",
       "    }\n",
       "</style>\n",
       "<table border=\"1\" class=\"dataframe\">\n",
       "  <thead>\n",
       "    <tr style=\"text-align: right;\">\n",
       "      <th></th>\n",
       "      <th>TARGET</th>\n",
       "      <th>No Payment Difficulties</th>\n",
       "      <th>Payment Difficulties</th>\n",
       "    </tr>\n",
       "    <tr>\n",
       "      <th>CODE_GENDER</th>\n",
       "      <th></th>\n",
       "      <th></th>\n",
       "      <th></th>\n",
       "    </tr>\n",
       "  </thead>\n",
       "  <tbody>\n",
       "    <tr>\n",
       "      <th>Female</th>\n",
       "      <th>TARGET</th>\n",
       "      <td>93.197504</td>\n",
       "      <td>6.802496</td>\n",
       "    </tr>\n",
       "    <tr>\n",
       "      <th>Male</th>\n",
       "      <th>TARGET</th>\n",
       "      <td>90.287328</td>\n",
       "      <td>9.712672</td>\n",
       "    </tr>\n",
       "  </tbody>\n",
       "</table>\n",
       "</div>"
      ],
      "text/plain": [
       "TARGET              No Payment Difficulties  Payment Difficulties\n",
       "CODE_GENDER                                                      \n",
       "Female      TARGET                93.197504              6.802496\n",
       "Male        TARGET                90.287328              9.712672"
      ]
     },
     "execution_count": 44,
     "metadata": {},
     "output_type": "execute_result"
    }
   ],
   "source": [
    "\n",
    "pd.DataFrame(bygender['TARGET'].value_counts(normalize=True)*100).stack().unstack(1)"
   ]
  },
  {
   "cell_type": "markdown",
   "id": "58319708-abc5-4085-a116-3ea63cf51931",
   "metadata": {},
   "source": [
    "#### Tinggkat penddikan"
   ]
  },
  {
   "cell_type": "code",
   "execution_count": 46,
   "id": "e9ea3af3-1c8d-4ea4-8185-27b897464d40",
   "metadata": {},
   "outputs": [],
   "source": [
    "byEducation=df.groupby('NAME_EDUCATION_TYPE')"
   ]
  },
  {
   "cell_type": "markdown",
   "id": "5d81c03e-1062-4f90-9c05-596e20994ba8",
   "metadata": {},
   "source": [
    "#### Jumlah Pinjaman"
   ]
  },
  {
   "cell_type": "code",
   "execution_count": 47,
   "id": "3d36efff-fd8a-4792-b201-a9dd27c71f00",
   "metadata": {},
   "outputs": [
    {
     "data": {
      "text/html": [
       "<div>\n",
       "<style scoped>\n",
       "    .dataframe tbody tr th:only-of-type {\n",
       "        vertical-align: middle;\n",
       "    }\n",
       "\n",
       "    .dataframe tbody tr th {\n",
       "        vertical-align: top;\n",
       "    }\n",
       "\n",
       "    .dataframe thead th {\n",
       "        text-align: right;\n",
       "    }\n",
       "</style>\n",
       "<table border=\"1\" class=\"dataframe\">\n",
       "  <thead>\n",
       "    <tr style=\"text-align: right;\">\n",
       "      <th></th>\n",
       "      <th>NAME_EDUCATION_TYPE</th>\n",
       "      <th>AMT_CREDIT</th>\n",
       "    </tr>\n",
       "  </thead>\n",
       "  <tbody>\n",
       "    <tr>\n",
       "      <th>4</th>\n",
       "      <td>Secondary / secondary special</td>\n",
       "      <td>1.000294e+11</td>\n",
       "    </tr>\n",
       "    <tr>\n",
       "      <th>1</th>\n",
       "      <td>Higher education</td>\n",
       "      <td>4.281719e+10</td>\n",
       "    </tr>\n",
       "    <tr>\n",
       "      <th>2</th>\n",
       "      <td>Incomplete higher</td>\n",
       "      <td>4.589294e+09</td>\n",
       "    </tr>\n",
       "    <tr>\n",
       "      <th>3</th>\n",
       "      <td>Lower secondary</td>\n",
       "      <td>1.421933e+09</td>\n",
       "    </tr>\n",
       "    <tr>\n",
       "      <th>0</th>\n",
       "      <td>Academic degree</td>\n",
       "      <td>9.694690e+07</td>\n",
       "    </tr>\n",
       "  </tbody>\n",
       "</table>\n",
       "</div>"
      ],
      "text/plain": [
       "             NAME_EDUCATION_TYPE    AMT_CREDIT\n",
       "4  Secondary / secondary special  1.000294e+11\n",
       "1               Higher education  4.281719e+10\n",
       "2              Incomplete higher  4.589294e+09\n",
       "3                Lower secondary  1.421933e+09\n",
       "0                Academic degree  9.694690e+07"
      ]
     },
     "execution_count": 47,
     "metadata": {},
     "output_type": "execute_result"
    },
    {
     "data": {
      "image/png": "[encoded data removed]",
      "text/plain": [
       "<Figure size 432x288 with 1 Axes>"
      ]
     },
     "metadata": {
      "needs_background": "light"
     },
     "output_type": "display_data"
    }
   ],
   "source": [
    "sns.barplot(y='NAME_EDUCATION_TYPE', x='AMT_CREDIT',data=pd.DataFrame(byEducation['AMT_CREDIT'].sum()).reset_index().sort_values('AMT_CREDIT',ascending=False),orient='h')\n",
    "# plt.xticks(rotation=45)\n",
    "plt.title('jumlah pinjaman terbanyak berdasarkan tingkat pendidikan')\n",
    "pd.DataFrame(byEducation['AMT_CREDIT'].sum()).reset_index().sort_values('AMT_CREDIT',ascending=False)\n"
   ]
  },
  {
   "cell_type": "markdown",
   "id": "dd7f5c60-f90b-442a-b80d-85f09f170a5f",
   "metadata": {},
   "source": [
    "#### Jumlah Kasus"
   ]
  },
  {
   "cell_type": "code",
   "execution_count": 50,
   "id": "3be7a1a0-5106-43c1-bc7a-fb6d0c321e75",
   "metadata": {},
   "outputs": [
    {
     "data": {
      "text/html": [
       "<div>\n",
       "<style scoped>\n",
       "    .dataframe tbody tr th:only-of-type {\n",
       "        vertical-align: middle;\n",
       "    }\n",
       "\n",
       "    .dataframe tbody tr th {\n",
       "        vertical-align: top;\n",
       "    }\n",
       "\n",
       "    .dataframe thead th {\n",
       "        text-align: right;\n",
       "    }\n",
       "</style>\n",
       "<table border=\"1\" class=\"dataframe\">\n",
       "  <thead>\n",
       "    <tr style=\"text-align: right;\">\n",
       "      <th></th>\n",
       "      <th>TARGET</th>\n",
       "      <th>No Payment Difficulties</th>\n",
       "      <th>Payment Difficulties</th>\n",
       "    </tr>\n",
       "    <tr>\n",
       "      <th>NAME_EDUCATION_TYPE</th>\n",
       "      <th></th>\n",
       "      <th></th>\n",
       "      <th></th>\n",
       "    </tr>\n",
       "  </thead>\n",
       "  <tbody>\n",
       "    <tr>\n",
       "      <th>Academic degree</th>\n",
       "      <th>TARGET</th>\n",
       "      <td>97.794118</td>\n",
       "      <td>2.205882</td>\n",
       "    </tr>\n",
       "    <tr>\n",
       "      <th>Higher education</th>\n",
       "      <th>TARGET</th>\n",
       "      <td>94.673214</td>\n",
       "      <td>5.326786</td>\n",
       "    </tr>\n",
       "    <tr>\n",
       "      <th>Incomplete higher</th>\n",
       "      <th>TARGET</th>\n",
       "      <td>91.736695</td>\n",
       "      <td>8.263305</td>\n",
       "    </tr>\n",
       "    <tr>\n",
       "      <th>Lower secondary</th>\n",
       "      <th>TARGET</th>\n",
       "      <td>89.499648</td>\n",
       "      <td>10.500352</td>\n",
       "    </tr>\n",
       "    <tr>\n",
       "      <th>Secondary / secondary special</th>\n",
       "      <th>TARGET</th>\n",
       "      <td>91.406938</td>\n",
       "      <td>8.593062</td>\n",
       "    </tr>\n",
       "  </tbody>\n",
       "</table>\n",
       "</div>"
      ],
      "text/plain": [
       "TARGET                                No Payment Difficulties  \\\n",
       "NAME_EDUCATION_TYPE                                             \n",
       "Academic degree               TARGET                97.794118   \n",
       "Higher education              TARGET                94.673214   \n",
       "Incomplete higher             TARGET                91.736695   \n",
       "Lower secondary               TARGET                89.499648   \n",
       "Secondary / secondary special TARGET                91.406938   \n",
       "\n",
       "TARGET                                Payment Difficulties  \n",
       "NAME_EDUCATION_TYPE                                         \n",
       "Academic degree               TARGET              2.205882  \n",
       "Higher education              TARGET              5.326786  \n",
       "Incomplete higher             TARGET              8.263305  \n",
       "Lower secondary               TARGET             10.500352  \n",
       "Secondary / secondary special TARGET              8.593062  "
      ]
     },
     "execution_count": 50,
     "metadata": {},
     "output_type": "execute_result"
    },
    {
     "data": {
      "image/png": "[encoded data removed]",
      "text/plain": [
       "<Figure size 432x288 with 1 Axes>"
      ]
     },
     "metadata": {
      "needs_background": "light"
     },
     "output_type": "display_data"
    }
   ],
   "source": [
    "sns.countplot(y=df['NAME_EDUCATION_TYPE'],hue=df['TARGET'])\n",
    "pd.DataFrame(byEducation['TARGET'].value_counts(normalize=True)*100).stack().unstack(1)"
   ]
  },
  {
   "cell_type": "markdown",
   "id": "c5552c3f-e1d3-4ac1-8866-ac75d6e9f375",
   "metadata": {},
   "source": [
    "#### Status keluarga"
   ]
  },
  {
   "cell_type": "code",
   "execution_count": 51,
   "id": "808b43e1-ee0a-41f1-a052-2650814abf83",
   "metadata": {},
   "outputs": [],
   "source": [
    "byFamStat=df.groupby('NAME_FAMILY_STATUS')"
   ]
  },
  {
   "cell_type": "markdown",
   "id": "1fbee856-47e8-4c3e-b1cf-dc004be85335",
   "metadata": {},
   "source": [
    "#### Jumlah Pinjaman"
   ]
  },
  {
   "cell_type": "code",
   "execution_count": 52,
   "id": "482ec1d1-77d1-4ce7-99e2-d7c0a8cfd010",
   "metadata": {},
   "outputs": [
    {
     "data": {
      "text/html": [
       "<div>\n",
       "<style scoped>\n",
       "    .dataframe tbody tr th:only-of-type {\n",
       "        vertical-align: middle;\n",
       "    }\n",
       "\n",
       "    .dataframe tbody tr th {\n",
       "        vertical-align: top;\n",
       "    }\n",
       "\n",
       "    .dataframe thead th {\n",
       "        text-align: right;\n",
       "    }\n",
       "</style>\n",
       "<table border=\"1\" class=\"dataframe\">\n",
       "  <thead>\n",
       "    <tr style=\"text-align: right;\">\n",
       "      <th></th>\n",
       "      <th>NAME_FAMILY_STATUS</th>\n",
       "      <th>AMT_CREDIT</th>\n",
       "    </tr>\n",
       "  </thead>\n",
       "  <tbody>\n",
       "    <tr>\n",
       "      <th>1</th>\n",
       "      <td>Married</td>\n",
       "      <td>1.035554e+11</td>\n",
       "    </tr>\n",
       "    <tr>\n",
       "      <th>3</th>\n",
       "      <td>Single / not married</td>\n",
       "      <td>1.758135e+10</td>\n",
       "    </tr>\n",
       "    <tr>\n",
       "      <th>0</th>\n",
       "      <td>Civil marriage</td>\n",
       "      <td>1.244875e+10</td>\n",
       "    </tr>\n",
       "    <tr>\n",
       "      <th>2</th>\n",
       "      <td>Separated</td>\n",
       "      <td>8.997383e+09</td>\n",
       "    </tr>\n",
       "    <tr>\n",
       "      <th>4</th>\n",
       "      <td>Widow</td>\n",
       "      <td>6.371924e+09</td>\n",
       "    </tr>\n",
       "  </tbody>\n",
       "</table>\n",
       "</div>"
      ],
      "text/plain": [
       "     NAME_FAMILY_STATUS    AMT_CREDIT\n",
       "1               Married  1.035554e+11\n",
       "3  Single / not married  1.758135e+10\n",
       "0        Civil marriage  1.244875e+10\n",
       "2             Separated  8.997383e+09\n",
       "4                 Widow  6.371924e+09"
      ]
     },
     "execution_count": 52,
     "metadata": {},
     "output_type": "execute_result"
    },
    {
     "data": {
      "image/png": "[encoded data removed]",
      "text/plain": [
       "<Figure size 432x288 with 1 Axes>"
      ]
     },
     "metadata": {
      "needs_background": "light"
     },
     "output_type": "display_data"
    }
   ],
   "source": [
    "sns.barplot(y='NAME_FAMILY_STATUS', x='AMT_CREDIT',data=pd.DataFrame(byFamStat['AMT_CREDIT'].sum()).reset_index().sort_values('AMT_CREDIT',ascending=False),orient='h')\n",
    "\n",
    "plt.title('jumlah pinjaman terbanyak berdasarkan status keluarga')\n",
    "pd.DataFrame(byFamStat['AMT_CREDIT'].sum()).reset_index().sort_values('AMT_CREDIT',ascending=False)"
   ]
  },
  {
   "cell_type": "markdown",
   "id": "d999aeaf-d049-4f7a-8add-475c3e256a86",
   "metadata": {},
   "source": [
    "#### Jumlah Kasus"
   ]
  },
  {
   "cell_type": "code",
   "execution_count": 54,
   "id": "ae2f0780-d201-4a91-b48a-286d5e353d04",
   "metadata": {},
   "outputs": [
    {
     "data": {
      "text/html": [
       "<div>\n",
       "<style scoped>\n",
       "    .dataframe tbody tr th:only-of-type {\n",
       "        vertical-align: middle;\n",
       "    }\n",
       "\n",
       "    .dataframe tbody tr th {\n",
       "        vertical-align: top;\n",
       "    }\n",
       "\n",
       "    .dataframe thead th {\n",
       "        text-align: right;\n",
       "    }\n",
       "</style>\n",
       "<table border=\"1\" class=\"dataframe\">\n",
       "  <thead>\n",
       "    <tr style=\"text-align: right;\">\n",
       "      <th></th>\n",
       "      <th>TARGET</th>\n",
       "      <th>No Payment Difficulties</th>\n",
       "      <th>Payment Difficulties</th>\n",
       "    </tr>\n",
       "    <tr>\n",
       "      <th>NAME_FAMILY_STATUS</th>\n",
       "      <th></th>\n",
       "      <th></th>\n",
       "      <th></th>\n",
       "    </tr>\n",
       "  </thead>\n",
       "  <tbody>\n",
       "    <tr>\n",
       "      <th>Civil marriage</th>\n",
       "      <th>TARGET</th>\n",
       "      <td>90.419825</td>\n",
       "      <td>9.580175</td>\n",
       "    </tr>\n",
       "    <tr>\n",
       "      <th>Married</th>\n",
       "      <th>TARGET</th>\n",
       "      <td>92.609855</td>\n",
       "      <td>7.390145</td>\n",
       "    </tr>\n",
       "    <tr>\n",
       "      <th>Separated</th>\n",
       "      <th>TARGET</th>\n",
       "      <td>92.194697</td>\n",
       "      <td>7.805303</td>\n",
       "    </tr>\n",
       "    <tr>\n",
       "      <th>Single / not married</th>\n",
       "      <th>TARGET</th>\n",
       "      <td>90.765403</td>\n",
       "      <td>9.234597</td>\n",
       "    </tr>\n",
       "    <tr>\n",
       "      <th>Widow</th>\n",
       "      <th>TARGET</th>\n",
       "      <td>94.477379</td>\n",
       "      <td>5.522621</td>\n",
       "    </tr>\n",
       "  </tbody>\n",
       "</table>\n",
       "</div>"
      ],
      "text/plain": [
       "TARGET                       No Payment Difficulties  Payment Difficulties\n",
       "NAME_FAMILY_STATUS                                                        \n",
       "Civil marriage       TARGET                90.419825              9.580175\n",
       "Married              TARGET                92.609855              7.390145\n",
       "Separated            TARGET                92.194697              7.805303\n",
       "Single / not married TARGET                90.765403              9.234597\n",
       "Widow                TARGET                94.477379              5.522621"
      ]
     },
     "execution_count": 54,
     "metadata": {},
     "output_type": "execute_result"
    },
    {
     "data": {
      "image/png": "[encoded data removed]",
      "text/plain": [
       "<Figure size 432x288 with 1 Axes>"
      ]
     },
     "metadata": {
      "needs_background": "light"
     },
     "output_type": "display_data"
    }
   ],
   "source": [
    "sns.countplot(y=df['NAME_FAMILY_STATUS'],hue=df['TARGET'])\n",
    "pd.DataFrame(byFamStat['TARGET'].value_counts(normalize=True)*100).stack().unstack(1)"
   ]
  },
  {
   "cell_type": "markdown",
   "id": "fb3565ea-d72a-4c89-9b95-b0031f51899b",
   "metadata": {},
   "source": [
    "#### Umur"
   ]
  },
  {
   "cell_type": "code",
   "execution_count": 56,
   "id": "e5335ddb-6ce3-4ac0-bdfc-4239d2a60173",
   "metadata": {},
   "outputs": [],
   "source": [
    "df['age_bin']=pd.cut(df['AGE'],5)\n",
    "byAge=df.groupby('age_bin')"
   ]
  },
  {
   "cell_type": "markdown",
   "id": "0b29ce23-a1fc-496d-921e-a839d78a68b2",
   "metadata": {},
   "source": [
    "##### JUmlah pinjaman"
   ]
  },
  {
   "cell_type": "code",
   "execution_count": 57,
   "id": "f8a9e4a5-0506-4392-94d2-0ec886423f64",
   "metadata": {},
   "outputs": [
    {
     "data": {
      "text/html": [
       "<div>\n",
       "<style scoped>\n",
       "    .dataframe tbody tr th:only-of-type {\n",
       "        vertical-align: middle;\n",
       "    }\n",
       "\n",
       "    .dataframe tbody tr th {\n",
       "        vertical-align: top;\n",
       "    }\n",
       "\n",
       "    .dataframe thead th {\n",
       "        text-align: right;\n",
       "    }\n",
       "</style>\n",
       "<table border=\"1\" class=\"dataframe\">\n",
       "  <thead>\n",
       "    <tr style=\"text-align: right;\">\n",
       "      <th></th>\n",
       "      <th>age_bin</th>\n",
       "      <th>AMT_CREDIT</th>\n",
       "    </tr>\n",
       "  </thead>\n",
       "  <tbody>\n",
       "    <tr>\n",
       "      <th>1</th>\n",
       "      <td>(30.6, 40.2]</td>\n",
       "      <td>4.170146e+10</td>\n",
       "    </tr>\n",
       "    <tr>\n",
       "      <th>2</th>\n",
       "      <td>(40.2, 49.8]</td>\n",
       "      <td>3.683012e+10</td>\n",
       "    </tr>\n",
       "    <tr>\n",
       "      <th>3</th>\n",
       "      <td>(49.8, 59.4]</td>\n",
       "      <td>3.597885e+10</td>\n",
       "    </tr>\n",
       "    <tr>\n",
       "      <th>0</th>\n",
       "      <td>(20.952, 30.6]</td>\n",
       "      <td>1.943075e+10</td>\n",
       "    </tr>\n",
       "    <tr>\n",
       "      <th>4</th>\n",
       "      <td>(59.4, 69.0]</td>\n",
       "      <td>1.501360e+10</td>\n",
       "    </tr>\n",
       "  </tbody>\n",
       "</table>\n",
       "</div>"
      ],
      "text/plain": [
       "          age_bin    AMT_CREDIT\n",
       "1    (30.6, 40.2]  4.170146e+10\n",
       "2    (40.2, 49.8]  3.683012e+10\n",
       "3    (49.8, 59.4]  3.597885e+10\n",
       "0  (20.952, 30.6]  1.943075e+10\n",
       "4    (59.4, 69.0]  1.501360e+10"
      ]
     },
     "execution_count": 57,
     "metadata": {},
     "output_type": "execute_result"
    },
    {
     "data": {
      "image/png": "[encoded data removed]",
      "text/plain": [
       "<Figure size 432x288 with 1 Axes>"
      ]
     },
     "metadata": {
      "needs_background": "light"
     },
     "output_type": "display_data"
    }
   ],
   "source": [
    "sns.barplot(y='age_bin', x='AMT_CREDIT',data=pd.DataFrame(byAge['AMT_CREDIT'].sum()).reset_index().sort_values('AMT_CREDIT',ascending=False),orient='h')\n",
    "plt.title('jumlah pinjaman terbanyak berdasarkan rentang usia')\n",
    "pd.DataFrame(byAge['AMT_CREDIT'].sum()).reset_index().sort_values('AMT_CREDIT',ascending=False)"
   ]
  },
  {
   "cell_type": "markdown",
   "id": "451ef543-b733-4dba-847c-c9d83b10ff77",
   "metadata": {},
   "source": [
    "#### Jumlah Kasus"
   ]
  },
  {
   "cell_type": "code",
   "execution_count": 58,
   "id": "9a50d2ad-c68d-4d5a-a9b7-565c75788fdc",
   "metadata": {},
   "outputs": [
    {
     "data": {
      "text/html": [
       "<div>\n",
       "<style scoped>\n",
       "    .dataframe tbody tr th:only-of-type {\n",
       "        vertical-align: middle;\n",
       "    }\n",
       "\n",
       "    .dataframe tbody tr th {\n",
       "        vertical-align: top;\n",
       "    }\n",
       "\n",
       "    .dataframe thead th {\n",
       "        text-align: right;\n",
       "    }\n",
       "</style>\n",
       "<table border=\"1\" class=\"dataframe\">\n",
       "  <thead>\n",
       "    <tr style=\"text-align: right;\">\n",
       "      <th></th>\n",
       "      <th>TARGET</th>\n",
       "      <th>No Payment Difficulties</th>\n",
       "      <th>Payment Difficulties</th>\n",
       "    </tr>\n",
       "    <tr>\n",
       "      <th>age_bin</th>\n",
       "      <th></th>\n",
       "      <th></th>\n",
       "      <th></th>\n",
       "    </tr>\n",
       "  </thead>\n",
       "  <tbody>\n",
       "    <tr>\n",
       "      <th>(20.952, 30.6]</th>\n",
       "      <th>TARGET</th>\n",
       "      <td>88.760369</td>\n",
       "      <td>11.239631</td>\n",
       "    </tr>\n",
       "    <tr>\n",
       "      <th>(30.6, 40.2]</th>\n",
       "      <th>TARGET</th>\n",
       "      <td>91.025052</td>\n",
       "      <td>8.974948</td>\n",
       "    </tr>\n",
       "    <tr>\n",
       "      <th>(40.2, 49.8]</th>\n",
       "      <th>TARGET</th>\n",
       "      <td>92.600170</td>\n",
       "      <td>7.399830</td>\n",
       "    </tr>\n",
       "    <tr>\n",
       "      <th>(49.8, 59.4]</th>\n",
       "      <th>TARGET</th>\n",
       "      <td>94.171979</td>\n",
       "      <td>5.828021</td>\n",
       "    </tr>\n",
       "    <tr>\n",
       "      <th>(59.4, 69.0]</th>\n",
       "      <th>TARGET</th>\n",
       "      <td>95.271200</td>\n",
       "      <td>4.728800</td>\n",
       "    </tr>\n",
       "  </tbody>\n",
       "</table>\n",
       "</div>"
      ],
      "text/plain": [
       "TARGET                 No Payment Difficulties  Payment Difficulties\n",
       "age_bin                                                             \n",
       "(20.952, 30.6] TARGET                88.760369             11.239631\n",
       "(30.6, 40.2]   TARGET                91.025052              8.974948\n",
       "(40.2, 49.8]   TARGET                92.600170              7.399830\n",
       "(49.8, 59.4]   TARGET                94.171979              5.828021\n",
       "(59.4, 69.0]   TARGET                95.271200              4.728800"
      ]
     },
     "execution_count": 58,
     "metadata": {},
     "output_type": "execute_result"
    }
   ],
   "source": [
    "pd.DataFrame(byAge['TARGET'].value_counts(normalize=True)*100).stack().unstack(1)"
   ]
  },
  {
   "cell_type": "markdown",
   "id": "e3a24a04-8e1a-4a30-ae7e-da85e54f3bdb",
   "metadata": {},
   "source": [
    "jumlah nasabah yang mengajukan pinjaman paling banyak berada pada kisaran 30-40 tahun, diikuti nasabah pada kisaran 40-45 tahun. Sementara itu, jumlah pelamar untuk klien berusia <25 tahun atau usia >65 tahun sangat sedikit.\n",
    "\n",
    "Klien yang mengalami kesulitan pembayaran adalah klien dengan rentang usia 35-45 tahun. Sedangkan klien yang berusia 60-70 tidak terlalu banyak yang kesulitan"
   ]
  },
  {
   "cell_type": "markdown",
   "id": "bd64262f-609f-4a69-90ab-fcfba14bc58e",
   "metadata": {},
   "source": [
    " #### Kepemilikan mobil¶"
   ]
  },
  {
   "cell_type": "code",
   "execution_count": 70,
   "id": "e36f1e82-b4c6-4d01-909e-8803ca13ea6b",
   "metadata": {},
   "outputs": [],
   "source": [
    "byFlag_owncar = df.groupby('FLAG_OWN_CAR')"
   ]
  },
  {
   "cell_type": "markdown",
   "id": "4c782243-1195-4077-b7db-a08ad8d5af49",
   "metadata": {},
   "source": [
    "#### Jumlah pinjaman"
   ]
  },
  {
   "cell_type": "code",
   "execution_count": 61,
   "id": "46f241a2-98a4-4432-9652-359fa3df5c81",
   "metadata": {},
   "outputs": [
    {
     "data": {
      "text/html": [
       "<div>\n",
       "<style scoped>\n",
       "    .dataframe tbody tr th:only-of-type {\n",
       "        vertical-align: middle;\n",
       "    }\n",
       "\n",
       "    .dataframe tbody tr th {\n",
       "        vertical-align: top;\n",
       "    }\n",
       "\n",
       "    .dataframe thead th {\n",
       "        text-align: right;\n",
       "    }\n",
       "</style>\n",
       "<table border=\"1\" class=\"dataframe\">\n",
       "  <thead>\n",
       "    <tr style=\"text-align: right;\">\n",
       "      <th></th>\n",
       "      <th>FLAG_OWN_CAR</th>\n",
       "      <th>AMT_CREDIT</th>\n",
       "    </tr>\n",
       "  </thead>\n",
       "  <tbody>\n",
       "    <tr>\n",
       "      <th>0</th>\n",
       "      <td>N</td>\n",
       "      <td>9.153759e+10</td>\n",
       "    </tr>\n",
       "    <tr>\n",
       "      <th>1</th>\n",
       "      <td>Y</td>\n",
       "      <td>5.741719e+10</td>\n",
       "    </tr>\n",
       "  </tbody>\n",
       "</table>\n",
       "</div>"
      ],
      "text/plain": [
       "  FLAG_OWN_CAR    AMT_CREDIT\n",
       "0            N  9.153759e+10\n",
       "1            Y  5.741719e+10"
      ]
     },
     "execution_count": 61,
     "metadata": {},
     "output_type": "execute_result"
    },
    {
     "data": {
      "image/png": "[encoded data removed]",
      "text/plain": [
       "<Figure size 432x288 with 1 Axes>"
      ]
     },
     "metadata": {
      "needs_background": "light"
     },
     "output_type": "display_data"
    }
   ],
   "source": [
    "sns.barplot(y='FLAG_OWN_CAR', x='AMT_CREDIT',data=pd.DataFrame(byFlag_owncar['AMT_CREDIT'].sum()).reset_index().sort_values('AMT_CREDIT',ascending=False),orient='h')\n",
    "plt.title('jumlah pinjaman terbanyak berdasarkan kepemilikan mobil')\n",
    "pd.DataFrame(byFlag_owncar['AMT_CREDIT'].sum()).reset_index().sort_values('AMT_CREDIT',ascending=False)"
   ]
  },
  {
   "cell_type": "markdown",
   "id": "2f2d3b57-8273-4519-9b6f-7d654f425dae",
   "metadata": {},
   "source": [
    "#### Jumlah kasus"
   ]
  },
  {
   "cell_type": "code",
   "execution_count": 62,
   "id": "42fa4750-b5ea-4c8f-adec-d06a768591c9",
   "metadata": {},
   "outputs": [
    {
     "data": {
      "text/html": [
       "<div>\n",
       "<style scoped>\n",
       "    .dataframe tbody tr th:only-of-type {\n",
       "        vertical-align: middle;\n",
       "    }\n",
       "\n",
       "    .dataframe tbody tr th {\n",
       "        vertical-align: top;\n",
       "    }\n",
       "\n",
       "    .dataframe thead th {\n",
       "        text-align: right;\n",
       "    }\n",
       "</style>\n",
       "<table border=\"1\" class=\"dataframe\">\n",
       "  <thead>\n",
       "    <tr style=\"text-align: right;\">\n",
       "      <th></th>\n",
       "      <th>TARGET</th>\n",
       "      <th>No Payment Difficulties</th>\n",
       "      <th>Payment Difficulties</th>\n",
       "    </tr>\n",
       "    <tr>\n",
       "      <th>FLAG_OWN_CAR</th>\n",
       "      <th></th>\n",
       "      <th></th>\n",
       "      <th></th>\n",
       "    </tr>\n",
       "  </thead>\n",
       "  <tbody>\n",
       "    <tr>\n",
       "      <th>N</th>\n",
       "      <th>TARGET</th>\n",
       "      <td>91.828097</td>\n",
       "      <td>8.171903</td>\n",
       "    </tr>\n",
       "    <tr>\n",
       "      <th>Y</th>\n",
       "      <th>TARGET</th>\n",
       "      <td>92.952081</td>\n",
       "      <td>7.047919</td>\n",
       "    </tr>\n",
       "  </tbody>\n",
       "</table>\n",
       "</div>"
      ],
      "text/plain": [
       "TARGET               No Payment Difficulties  Payment Difficulties\n",
       "FLAG_OWN_CAR                                                      \n",
       "N            TARGET                91.828097              8.171903\n",
       "Y            TARGET                92.952081              7.047919"
      ]
     },
     "execution_count": 62,
     "metadata": {},
     "output_type": "execute_result"
    }
   ],
   "source": [
    "pd.DataFrame(byFlag_owncar['TARGET'].value_counts(normalize=True)*100).stack().unstack(1)"
   ]
  },
  {
   "cell_type": "markdown",
   "id": "caeeb7a4-7053-45da-97a1-f3c32e0f6afd",
   "metadata": {},
   "source": [
    "### kepemilikan harta tak gerak"
   ]
  },
  {
   "cell_type": "markdown",
   "id": "81f50551-a2a4-4b99-ba59-3535ce992674",
   "metadata": {},
   "source": [
    "##### Jumlah Pinjaman"
   ]
  },
  {
   "cell_type": "code",
   "execution_count": 67,
   "id": "14346e3a-41c8-4317-96ac-86cff9fef573",
   "metadata": {},
   "outputs": [
    {
     "data": {
      "text/html": [
       "<div>\n",
       "<style scoped>\n",
       "    .dataframe tbody tr th:only-of-type {\n",
       "        vertical-align: middle;\n",
       "    }\n",
       "\n",
       "    .dataframe tbody tr th {\n",
       "        vertical-align: top;\n",
       "    }\n",
       "\n",
       "    .dataframe thead th {\n",
       "        text-align: right;\n",
       "    }\n",
       "</style>\n",
       "<table border=\"1\" class=\"dataframe\">\n",
       "  <thead>\n",
       "    <tr style=\"text-align: right;\">\n",
       "      <th></th>\n",
       "      <th>FLAG_OWN_REALTY</th>\n",
       "      <th>AMT_CREDIT</th>\n",
       "    </tr>\n",
       "  </thead>\n",
       "  <tbody>\n",
       "    <tr>\n",
       "      <th>1</th>\n",
       "      <td>Y</td>\n",
       "      <td>1.010921e+11</td>\n",
       "    </tr>\n",
       "    <tr>\n",
       "      <th>0</th>\n",
       "      <td>N</td>\n",
       "      <td>4.786266e+10</td>\n",
       "    </tr>\n",
       "  </tbody>\n",
       "</table>\n",
       "</div>"
      ],
      "text/plain": [
       "  FLAG_OWN_REALTY    AMT_CREDIT\n",
       "1               Y  1.010921e+11\n",
       "0               N  4.786266e+10"
      ]
     },
     "execution_count": 67,
     "metadata": {},
     "output_type": "execute_result"
    }
   ],
   "source": [
    "byFlag_ownreal = df.groupby('FLAG_OWN_REALTY')\n",
    "\n",
    "pd.DataFrame(byFlag_ownreal['AMT_CREDIT'].sum()).reset_index().sort_values('AMT_CREDIT',ascending=False)"
   ]
  },
  {
   "cell_type": "markdown",
   "id": "20e9983c-4e84-43fc-9551-1ccf109d145a",
   "metadata": {},
   "source": [
    "##### Jumlah kasus"
   ]
  },
  {
   "cell_type": "code",
   "execution_count": 68,
   "id": "dc6aebb9-1054-4153-9057-0450feb03bb5",
   "metadata": {},
   "outputs": [
    {
     "data": {
      "text/html": [
       "<div>\n",
       "<style scoped>\n",
       "    .dataframe tbody tr th:only-of-type {\n",
       "        vertical-align: middle;\n",
       "    }\n",
       "\n",
       "    .dataframe tbody tr th {\n",
       "        vertical-align: top;\n",
       "    }\n",
       "\n",
       "    .dataframe thead th {\n",
       "        text-align: right;\n",
       "    }\n",
       "</style>\n",
       "<table border=\"1\" class=\"dataframe\">\n",
       "  <thead>\n",
       "    <tr style=\"text-align: right;\">\n",
       "      <th></th>\n",
       "      <th>TARGET</th>\n",
       "      <th>No Payment Difficulties</th>\n",
       "      <th>Payment Difficulties</th>\n",
       "    </tr>\n",
       "    <tr>\n",
       "      <th>FLAG_OWN_REALTY</th>\n",
       "      <th></th>\n",
       "      <th></th>\n",
       "      <th></th>\n",
       "    </tr>\n",
       "  </thead>\n",
       "  <tbody>\n",
       "    <tr>\n",
       "      <th>N</th>\n",
       "      <th>TARGET</th>\n",
       "      <td>91.951284</td>\n",
       "      <td>8.048716</td>\n",
       "    </tr>\n",
       "    <tr>\n",
       "      <th>Y</th>\n",
       "      <th>TARGET</th>\n",
       "      <td>92.342005</td>\n",
       "      <td>7.657995</td>\n",
       "    </tr>\n",
       "  </tbody>\n",
       "</table>\n",
       "</div>"
      ],
      "text/plain": [
       "TARGET                  No Payment Difficulties  Payment Difficulties\n",
       "FLAG_OWN_REALTY                                                      \n",
       "N               TARGET                91.951284              8.048716\n",
       "Y               TARGET                92.342005              7.657995"
      ]
     },
     "execution_count": 68,
     "metadata": {},
     "output_type": "execute_result"
    }
   ],
   "source": [
    "pd.DataFrame(byFlag_ownreal['TARGET'].value_counts(normalize=True)*100).stack().unstack(1)"
   ]
  },
  {
   "cell_type": "markdown",
   "id": "ecfa95e2-2d55-4309-a761-86d0c092c0f1",
   "metadata": {},
   "source": [
    "### Tipe Rumah"
   ]
  },
  {
   "cell_type": "markdown",
   "id": "a9d6ccf2-d51d-434b-8651-c0531c6ede13",
   "metadata": {},
   "source": [
    "##### Jumlah Pinjaman"
   ]
  },
  {
   "cell_type": "code",
   "execution_count": 73,
   "id": "df8e6e7b-5d51-42f4-96b7-fecf0dcd97e6",
   "metadata": {},
   "outputs": [
    {
     "data": {
      "text/html": [
       "<div>\n",
       "<style scoped>\n",
       "    .dataframe tbody tr th:only-of-type {\n",
       "        vertical-align: middle;\n",
       "    }\n",
       "\n",
       "    .dataframe tbody tr th {\n",
       "        vertical-align: top;\n",
       "    }\n",
       "\n",
       "    .dataframe thead th {\n",
       "        text-align: right;\n",
       "    }\n",
       "</style>\n",
       "<table border=\"1\" class=\"dataframe\">\n",
       "  <thead>\n",
       "    <tr style=\"text-align: right;\">\n",
       "      <th></th>\n",
       "      <th>NAME_HOUSING_TYPE</th>\n",
       "      <th>AMT_CREDIT</th>\n",
       "    </tr>\n",
       "  </thead>\n",
       "  <tbody>\n",
       "    <tr>\n",
       "      <th>1</th>\n",
       "      <td>House / apartment</td>\n",
       "      <td>1.339586e+11</td>\n",
       "    </tr>\n",
       "    <tr>\n",
       "      <th>5</th>\n",
       "      <td>With parents</td>\n",
       "      <td>5.838666e+09</td>\n",
       "    </tr>\n",
       "    <tr>\n",
       "      <th>2</th>\n",
       "      <td>Municipal apartment</td>\n",
       "      <td>5.356854e+09</td>\n",
       "    </tr>\n",
       "    <tr>\n",
       "      <th>4</th>\n",
       "      <td>Rented apartment</td>\n",
       "      <td>1.944708e+09</td>\n",
       "    </tr>\n",
       "    <tr>\n",
       "      <th>3</th>\n",
       "      <td>Office apartment</td>\n",
       "      <td>1.312134e+09</td>\n",
       "    </tr>\n",
       "    <tr>\n",
       "      <th>0</th>\n",
       "      <td>Co-op apartment</td>\n",
       "      <td>5.437744e+08</td>\n",
       "    </tr>\n",
       "  </tbody>\n",
       "</table>\n",
       "</div>"
      ],
      "text/plain": [
       "     NAME_HOUSING_TYPE    AMT_CREDIT\n",
       "1    House / apartment  1.339586e+11\n",
       "5         With parents  5.838666e+09\n",
       "2  Municipal apartment  5.356854e+09\n",
       "4     Rented apartment  1.944708e+09\n",
       "3     Office apartment  1.312134e+09\n",
       "0      Co-op apartment  5.437744e+08"
      ]
     },
     "execution_count": 73,
     "metadata": {},
     "output_type": "execute_result"
    },
    {
     "data": {
      "image/png": "[encoded data removed]",
      "text/plain": [
       "<Figure size 432x288 with 1 Axes>"
      ]
     },
     "metadata": {
      "needs_background": "light"
     },
     "output_type": "display_data"
    }
   ],
   "source": [
    "byHousing = df.groupby('NAME_HOUSING_TYPE')\n",
    "sns.barplot(y='NAME_HOUSING_TYPE', x='AMT_CREDIT',data=pd.DataFrame(byHousing['AMT_CREDIT'].sum()).reset_index().sort_values('AMT_CREDIT',ascending=False),orient='h')\n",
    "plt.title('jumlah pinjaman terbanyak berdasarkan tipe tempat tinggal')\n",
    "pd.DataFrame(byHousing['AMT_CREDIT'].sum()).reset_index().sort_values('AMT_CREDIT',ascending=False)"
   ]
  },
  {
   "cell_type": "markdown",
   "id": "c1abff80-5495-4eb2-9d61-6b6786fe84aa",
   "metadata": {},
   "source": [
    "##### Jumlah kasus"
   ]
  },
  {
   "cell_type": "code",
   "execution_count": 77,
   "id": "58e8066c-cdee-4875-9d08-1b69f8744fa0",
   "metadata": {},
   "outputs": [
    {
     "data": {
      "text/html": [
       "<div>\n",
       "<style scoped>\n",
       "    .dataframe tbody tr th:only-of-type {\n",
       "        vertical-align: middle;\n",
       "    }\n",
       "\n",
       "    .dataframe tbody tr th {\n",
       "        vertical-align: top;\n",
       "    }\n",
       "\n",
       "    .dataframe thead th {\n",
       "        text-align: right;\n",
       "    }\n",
       "</style>\n",
       "<table border=\"1\" class=\"dataframe\">\n",
       "  <thead>\n",
       "    <tr style=\"text-align: right;\">\n",
       "      <th></th>\n",
       "      <th>TARGET</th>\n",
       "      <th>No Payment Difficulties</th>\n",
       "      <th>Payment Difficulties</th>\n",
       "    </tr>\n",
       "    <tr>\n",
       "      <th>FLAG_OWN_REALTY</th>\n",
       "      <th></th>\n",
       "      <th></th>\n",
       "      <th></th>\n",
       "    </tr>\n",
       "  </thead>\n",
       "  <tbody>\n",
       "    <tr>\n",
       "      <th>N</th>\n",
       "      <th>TARGET</th>\n",
       "      <td>91.951284</td>\n",
       "      <td>8.048716</td>\n",
       "    </tr>\n",
       "    <tr>\n",
       "      <th>Y</th>\n",
       "      <th>TARGET</th>\n",
       "      <td>92.342005</td>\n",
       "      <td>7.657995</td>\n",
       "    </tr>\n",
       "  </tbody>\n",
       "</table>\n",
       "</div>"
      ],
      "text/plain": [
       "TARGET                  No Payment Difficulties  Payment Difficulties\n",
       "FLAG_OWN_REALTY                                                      \n",
       "N               TARGET                91.951284              8.048716\n",
       "Y               TARGET                92.342005              7.657995"
      ]
     },
     "execution_count": 77,
     "metadata": {},
     "output_type": "execute_result"
    }
   ],
   "source": [
    "pd.DataFrame(byFlag_ownreal['TARGET'].value_counts(normalize=True)*100).stack().unstack(1)"
   ]
  },
  {
   "cell_type": "markdown",
   "id": "48449dd7-3c38-4a52-a2d1-60d98f063517",
   "metadata": {},
   "source": [
    "### Jumlah Anak"
   ]
  },
  {
   "cell_type": "markdown",
   "id": "8f357a81-79d6-4f6b-b72f-c16842952046",
   "metadata": {},
   "source": [
    "##### jumlah pinjaman"
   ]
  },
  {
   "cell_type": "code",
   "execution_count": 81,
   "id": "bf3303fe-f7ba-4679-a224-35513ab612e8",
   "metadata": {},
   "outputs": [
    {
     "data": {
      "text/html": [
       "<div>\n",
       "<style scoped>\n",
       "    .dataframe tbody tr th:only-of-type {\n",
       "        vertical-align: middle;\n",
       "    }\n",
       "\n",
       "    .dataframe tbody tr th {\n",
       "        vertical-align: top;\n",
       "    }\n",
       "\n",
       "    .dataframe thead th {\n",
       "        text-align: right;\n",
       "    }\n",
       "</style>\n",
       "<table border=\"1\" class=\"dataframe\">\n",
       "  <thead>\n",
       "    <tr style=\"text-align: right;\">\n",
       "      <th></th>\n",
       "      <th>CNT_CHILDREN</th>\n",
       "      <th>AMT_CREDIT</th>\n",
       "    </tr>\n",
       "  </thead>\n",
       "  <tbody>\n",
       "    <tr>\n",
       "      <th>0</th>\n",
       "      <td>0</td>\n",
       "      <td>1.036618e+11</td>\n",
       "    </tr>\n",
       "    <tr>\n",
       "      <th>1</th>\n",
       "      <td>1</td>\n",
       "      <td>2.977156e+10</td>\n",
       "    </tr>\n",
       "    <tr>\n",
       "      <th>2</th>\n",
       "      <td>2</td>\n",
       "      <td>1.339192e+10</td>\n",
       "    </tr>\n",
       "    <tr>\n",
       "      <th>3</th>\n",
       "      <td>3</td>\n",
       "      <td>1.864165e+09</td>\n",
       "    </tr>\n",
       "    <tr>\n",
       "      <th>4</th>\n",
       "      <td>4</td>\n",
       "      <td>2.083947e+08</td>\n",
       "    </tr>\n",
       "    <tr>\n",
       "      <th>5</th>\n",
       "      <td>5</td>\n",
       "      <td>3.914528e+07</td>\n",
       "    </tr>\n",
       "    <tr>\n",
       "      <th>6</th>\n",
       "      <td>6</td>\n",
       "      <td>8.353305e+06</td>\n",
       "    </tr>\n",
       "    <tr>\n",
       "      <th>7</th>\n",
       "      <td>7</td>\n",
       "      <td>2.630826e+06</td>\n",
       "    </tr>\n",
       "    <tr>\n",
       "      <th>13</th>\n",
       "      <td>14</td>\n",
       "      <td>2.499210e+06</td>\n",
       "    </tr>\n",
       "    <tr>\n",
       "      <th>9</th>\n",
       "      <td>9</td>\n",
       "      <td>1.166571e+06</td>\n",
       "    </tr>\n",
       "    <tr>\n",
       "      <th>11</th>\n",
       "      <td>11</td>\n",
       "      <td>1.007762e+06</td>\n",
       "    </tr>\n",
       "    <tr>\n",
       "      <th>8</th>\n",
       "      <td>8</td>\n",
       "      <td>9.950400e+05</td>\n",
       "    </tr>\n",
       "    <tr>\n",
       "      <th>12</th>\n",
       "      <td>12</td>\n",
       "      <td>9.487800e+05</td>\n",
       "    </tr>\n",
       "    <tr>\n",
       "      <th>14</th>\n",
       "      <td>19</td>\n",
       "      <td>1.350000e+05</td>\n",
       "    </tr>\n",
       "    <tr>\n",
       "      <th>10</th>\n",
       "      <td>10</td>\n",
       "      <td>9.265500e+04</td>\n",
       "    </tr>\n",
       "  </tbody>\n",
       "</table>\n",
       "</div>"
      ],
      "text/plain": [
       "    CNT_CHILDREN    AMT_CREDIT\n",
       "0              0  1.036618e+11\n",
       "1              1  2.977156e+10\n",
       "2              2  1.339192e+10\n",
       "3              3  1.864165e+09\n",
       "4              4  2.083947e+08\n",
       "5              5  3.914528e+07\n",
       "6              6  8.353305e+06\n",
       "7              7  2.630826e+06\n",
       "13            14  2.499210e+06\n",
       "9              9  1.166571e+06\n",
       "11            11  1.007762e+06\n",
       "8              8  9.950400e+05\n",
       "12            12  9.487800e+05\n",
       "14            19  1.350000e+05\n",
       "10            10  9.265500e+04"
      ]
     },
     "execution_count": 81,
     "metadata": {},
     "output_type": "execute_result"
    }
   ],
   "source": [
    "byChild=df.groupby('CNT_CHILDREN')\n",
    "pd.DataFrame(byChild['AMT_CREDIT'].sum()).reset_index().sort_values('AMT_CREDIT',ascending=False)\n"
   ]
  },
  {
   "cell_type": "code",
   "execution_count": 82,
   "id": "e24983a5-1cae-4fd7-9d0f-3ad4b6631375",
   "metadata": {},
   "outputs": [
    {
     "data": {
      "text/html": [
       "<div>\n",
       "<style scoped>\n",
       "    .dataframe tbody tr th:only-of-type {\n",
       "        vertical-align: middle;\n",
       "    }\n",
       "\n",
       "    .dataframe tbody tr th {\n",
       "        vertical-align: top;\n",
       "    }\n",
       "\n",
       "    .dataframe thead th {\n",
       "        text-align: right;\n",
       "    }\n",
       "</style>\n",
       "<table border=\"1\" class=\"dataframe\">\n",
       "  <thead>\n",
       "    <tr style=\"text-align: right;\">\n",
       "      <th></th>\n",
       "      <th>TARGET</th>\n",
       "      <th>No Payment Difficulties</th>\n",
       "      <th>Payment Difficulties</th>\n",
       "    </tr>\n",
       "    <tr>\n",
       "      <th>CNT_CHILDREN</th>\n",
       "      <th></th>\n",
       "      <th></th>\n",
       "      <th></th>\n",
       "    </tr>\n",
       "  </thead>\n",
       "  <tbody>\n",
       "    <tr>\n",
       "      <th>0</th>\n",
       "      <th>TARGET</th>\n",
       "      <td>0.925884</td>\n",
       "      <td>0.074116</td>\n",
       "    </tr>\n",
       "    <tr>\n",
       "      <th>1</th>\n",
       "      <th>TARGET</th>\n",
       "      <td>0.913611</td>\n",
       "      <td>0.086389</td>\n",
       "    </tr>\n",
       "    <tr>\n",
       "      <th>2</th>\n",
       "      <th>TARGET</th>\n",
       "      <td>0.916655</td>\n",
       "      <td>0.083345</td>\n",
       "    </tr>\n",
       "    <tr>\n",
       "      <th>3</th>\n",
       "      <th>TARGET</th>\n",
       "      <td>0.902415</td>\n",
       "      <td>0.097585</td>\n",
       "    </tr>\n",
       "    <tr>\n",
       "      <th>4</th>\n",
       "      <th>TARGET</th>\n",
       "      <td>0.878419</td>\n",
       "      <td>0.121581</td>\n",
       "    </tr>\n",
       "    <tr>\n",
       "      <th>5</th>\n",
       "      <th>TARGET</th>\n",
       "      <td>0.900000</td>\n",
       "      <td>0.100000</td>\n",
       "    </tr>\n",
       "    <tr>\n",
       "      <th>6</th>\n",
       "      <th>TARGET</th>\n",
       "      <td>0.750000</td>\n",
       "      <td>0.250000</td>\n",
       "    </tr>\n",
       "    <tr>\n",
       "      <th>7</th>\n",
       "      <th>TARGET</th>\n",
       "      <td>1.000000</td>\n",
       "      <td>0.000000</td>\n",
       "    </tr>\n",
       "    <tr>\n",
       "      <th>8</th>\n",
       "      <th>TARGET</th>\n",
       "      <td>1.000000</td>\n",
       "      <td>0.000000</td>\n",
       "    </tr>\n",
       "    <tr>\n",
       "      <th>9</th>\n",
       "      <th>TARGET</th>\n",
       "      <td>0.000000</td>\n",
       "      <td>1.000000</td>\n",
       "    </tr>\n",
       "    <tr>\n",
       "      <th>10</th>\n",
       "      <th>TARGET</th>\n",
       "      <td>1.000000</td>\n",
       "      <td>0.000000</td>\n",
       "    </tr>\n",
       "    <tr>\n",
       "      <th>11</th>\n",
       "      <th>TARGET</th>\n",
       "      <td>0.000000</td>\n",
       "      <td>1.000000</td>\n",
       "    </tr>\n",
       "    <tr>\n",
       "      <th>12</th>\n",
       "      <th>TARGET</th>\n",
       "      <td>1.000000</td>\n",
       "      <td>0.000000</td>\n",
       "    </tr>\n",
       "    <tr>\n",
       "      <th>14</th>\n",
       "      <th>TARGET</th>\n",
       "      <td>1.000000</td>\n",
       "      <td>0.000000</td>\n",
       "    </tr>\n",
       "    <tr>\n",
       "      <th>19</th>\n",
       "      <th>TARGET</th>\n",
       "      <td>1.000000</td>\n",
       "      <td>0.000000</td>\n",
       "    </tr>\n",
       "  </tbody>\n",
       "</table>\n",
       "</div>"
      ],
      "text/plain": [
       "TARGET               No Payment Difficulties  Payment Difficulties\n",
       "CNT_CHILDREN                                                      \n",
       "0            TARGET                 0.925884              0.074116\n",
       "1            TARGET                 0.913611              0.086389\n",
       "2            TARGET                 0.916655              0.083345\n",
       "3            TARGET                 0.902415              0.097585\n",
       "4            TARGET                 0.878419              0.121581\n",
       "5            TARGET                 0.900000              0.100000\n",
       "6            TARGET                 0.750000              0.250000\n",
       "7            TARGET                 1.000000              0.000000\n",
       "8            TARGET                 1.000000              0.000000\n",
       "9            TARGET                 0.000000              1.000000\n",
       "10           TARGET                 1.000000              0.000000\n",
       "11           TARGET                 0.000000              1.000000\n",
       "12           TARGET                 1.000000              0.000000\n",
       "14           TARGET                 1.000000              0.000000\n",
       "19           TARGET                 1.000000              0.000000"
      ]
     },
     "execution_count": 82,
     "metadata": {},
     "output_type": "execute_result"
    }
   ],
   "source": [
    "## Stack unStack\n",
    "pd.DataFrame(byChild['TARGET'].value_counts(normalize=True)).stack().unstack(1).fillna(0)"
   ]
  },
  {
   "cell_type": "markdown",
   "id": "f15bf397-6ff8-4b22-8f65-a8439626547c",
   "metadata": {},
   "source": [
    "#### Distribusi cicilan terhadap income total"
   ]
  },
  {
   "cell_type": "code",
   "execution_count": 84,
   "id": "be8f50fe-2a68-4bb4-a786-13719dd9c22c",
   "metadata": {},
   "outputs": [],
   "source": [
    "ratio_credit=df['AMT_ANNUITY']/df['AMT_INCOME_TOTAL']*100"
   ]
  },
  {
   "cell_type": "code",
   "execution_count": 85,
   "id": "8bb740b5-f088-4da8-a416-af05a1a9c093",
   "metadata": {},
   "outputs": [
    {
     "data": {
      "text/plain": [
       "Text(0.5, 1.0, 'rasio utang dengan pendapatan total')"
      ]
     },
     "execution_count": 85,
     "metadata": {},
     "output_type": "execute_result"
    },
    {
     "data": {
      "image/png": "[encoded data removed]",
      "text/plain": [
       "<Figure size 432x288 with 1 Axes>"
      ]
     },
     "metadata": {
      "needs_background": "light"
     },
     "output_type": "display_data"
    }
   ],
   "source": [
    "sns.distplot(ratio_credit)\n",
    "plt.xlabel('Rasio')\n",
    "plt.ylabel('Banyaknya')\n",
    "plt.title('rasio utang dengan pendapatan total')"
   ]
  },
  {
   "cell_type": "code",
   "execution_count": 89,
   "id": "a54e2fd7-138f-4022-9561-477e109c13e3",
   "metadata": {},
   "outputs": [
    {
     "data": {
      "text/plain": [
       "Female    23\n",
       "Male       1\n",
       "Name: CODE_GENDER, dtype: int64"
      ]
     },
     "execution_count": 89,
     "metadata": {},
     "output_type": "execute_result"
    }
   ],
   "source": [
    "df['ratio_credit']=ratio_credit\n",
    "df[df['ratio_credit']>100]['CODE_GENDER'].value_counts()"
   ]
  },
  {
   "cell_type": "code",
   "execution_count": 91,
   "id": "57449eee-ad04-4cca-9135-d6333aefd147",
   "metadata": {},
   "outputs": [],
   "source": [
    "df['ratio_cr']=pd.cut(ratio_credit,bins=4)"
   ]
  },
  {
   "cell_type": "code",
   "execution_count": 95,
   "id": "f73a24a4-5268-4272-9907-eb78ea34ed1f",
   "metadata": {},
   "outputs": [
    {
     "data": {
      "text/html": [
       "<div>\n",
       "<style scoped>\n",
       "    .dataframe tbody tr th:only-of-type {\n",
       "        vertical-align: middle;\n",
       "    }\n",
       "\n",
       "    .dataframe tbody tr th {\n",
       "        vertical-align: top;\n",
       "    }\n",
       "\n",
       "    .dataframe thead th {\n",
       "        text-align: right;\n",
       "    }\n",
       "</style>\n",
       "<table border=\"1\" class=\"dataframe\">\n",
       "  <thead>\n",
       "    <tr style=\"text-align: right;\">\n",
       "      <th></th>\n",
       "      <th>TARGET</th>\n",
       "      <th>No Payment Difficulties</th>\n",
       "      <th>Payment Difficulties</th>\n",
       "    </tr>\n",
       "    <tr>\n",
       "      <th>ratio_cr</th>\n",
       "      <th></th>\n",
       "      <th></th>\n",
       "      <th></th>\n",
       "    </tr>\n",
       "  </thead>\n",
       "  <tbody>\n",
       "    <tr>\n",
       "      <th>(-0.135, 39.282]</th>\n",
       "      <th>TARGET</th>\n",
       "      <td>92.208975</td>\n",
       "      <td>7.791025</td>\n",
       "    </tr>\n",
       "    <tr>\n",
       "      <th>(39.282, 78.541]</th>\n",
       "      <th>TARGET</th>\n",
       "      <td>92.651515</td>\n",
       "      <td>7.348485</td>\n",
       "    </tr>\n",
       "    <tr>\n",
       "      <th>(78.541, 117.801]</th>\n",
       "      <th>TARGET</th>\n",
       "      <td>93.700787</td>\n",
       "      <td>6.299213</td>\n",
       "    </tr>\n",
       "    <tr>\n",
       "      <th>(117.801, 157.06]</th>\n",
       "      <th>TARGET</th>\n",
       "      <td>88.888889</td>\n",
       "      <td>11.111111</td>\n",
       "    </tr>\n",
       "  </tbody>\n",
       "</table>\n",
       "</div>"
      ],
      "text/plain": [
       "TARGET                    No Payment Difficulties  Payment Difficulties\n",
       "ratio_cr                                                               \n",
       "(-0.135, 39.282]  TARGET                92.208975              7.791025\n",
       "(39.282, 78.541]  TARGET                92.651515              7.348485\n",
       "(78.541, 117.801] TARGET                93.700787              6.299213\n",
       "(117.801, 157.06] TARGET                88.888889             11.111111"
      ]
     },
     "metadata": {},
     "output_type": "display_data"
    }
   ],
   "source": [
    "byCrerat=df.groupby('ratio_cr')\n",
    "crerat=pd.DataFrame(byCrerat['TARGET'].value_counts(normalize=True)*100).stack().unstack(1)\n",
    "display(crerat)\n"
   ]
  },
  {
   "cell_type": "markdown",
   "id": "bc04d9f7-33d3-46c4-9415-3bb6412ecd58",
   "metadata": {},
   "source": [
    "####  jumlah pinjaman terbanyak berdasarkan Pekerjaan dan instansi bekerja"
   ]
  },
  {
   "cell_type": "code",
   "execution_count": 97,
   "id": "5af29676-ea1b-4c2c-aef2-0b5f69ff78a7",
   "metadata": {},
   "outputs": [],
   "source": [
    "byOrg=df.groupby('ORGANIZATION_TYPE')"
   ]
  },
  {
   "cell_type": "markdown",
   "id": "879ab942-7c7d-495d-80a2-0170b006d504",
   "metadata": {},
   "source": [
    "##### Jumlah pinjaman"
   ]
  },
  {
   "cell_type": "code",
   "execution_count": 101,
   "id": "4d87208a-de36-4dc4-b274-f32256ba6e6b",
   "metadata": {},
   "outputs": [
    {
     "data": {
      "text/html": [
       "<div>\n",
       "<style scoped>\n",
       "    .dataframe tbody tr th:only-of-type {\n",
       "        vertical-align: middle;\n",
       "    }\n",
       "\n",
       "    .dataframe tbody tr th {\n",
       "        vertical-align: top;\n",
       "    }\n",
       "\n",
       "    .dataframe thead th {\n",
       "        text-align: right;\n",
       "    }\n",
       "</style>\n",
       "<table border=\"1\" class=\"dataframe\">\n",
       "  <thead>\n",
       "    <tr style=\"text-align: right;\">\n",
       "      <th></th>\n",
       "      <th>ORGANIZATION_TYPE</th>\n",
       "      <th>AMT_CREDIT</th>\n",
       "    </tr>\n",
       "  </thead>\n",
       "  <tbody>\n",
       "    <tr>\n",
       "      <th>5</th>\n",
       "      <td>Business Entity Type 3</td>\n",
       "      <td>3.394748e+10</td>\n",
       "    </tr>\n",
       "    <tr>\n",
       "      <th>57</th>\n",
       "      <td>XNA</td>\n",
       "      <td>2.411370e+10</td>\n",
       "    </tr>\n",
       "    <tr>\n",
       "      <th>42</th>\n",
       "      <td>Self-employed</td>\n",
       "      <td>1.715681e+10</td>\n",
       "    </tr>\n",
       "    <tr>\n",
       "      <th>33</th>\n",
       "      <td>Other</td>\n",
       "      <td>8.399843e+09</td>\n",
       "    </tr>\n",
       "    <tr>\n",
       "      <th>30</th>\n",
       "      <td>Medicine</td>\n",
       "      <td>5.879363e+09</td>\n",
       "    </tr>\n",
       "    <tr>\n",
       "      <th>11</th>\n",
       "      <td>Government</td>\n",
       "      <td>5.410176e+09</td>\n",
       "    </tr>\n",
       "    <tr>\n",
       "      <th>4</th>\n",
       "      <td>Business Entity Type 2</td>\n",
       "      <td>5.305231e+09</td>\n",
       "    </tr>\n",
       "    <tr>\n",
       "      <th>39</th>\n",
       "      <td>School</td>\n",
       "      <td>4.698989e+09</td>\n",
       "    </tr>\n",
       "    <tr>\n",
       "      <th>51</th>\n",
       "      <td>Trade: type 7</td>\n",
       "      <td>3.663103e+09</td>\n",
       "    </tr>\n",
       "    <tr>\n",
       "      <th>28</th>\n",
       "      <td>Kindergarten</td>\n",
       "      <td>3.403176e+09</td>\n",
       "    </tr>\n",
       "    <tr>\n",
       "      <th>7</th>\n",
       "      <td>Construction</td>\n",
       "      <td>3.381182e+09</td>\n",
       "    </tr>\n",
       "    <tr>\n",
       "      <th>3</th>\n",
       "      <td>Business Entity Type 1</td>\n",
       "      <td>3.119155e+09</td>\n",
       "    </tr>\n",
       "    <tr>\n",
       "      <th>55</th>\n",
       "      <td>Transport: type 4</td>\n",
       "      <td>2.799078e+09</td>\n",
       "    </tr>\n",
       "    <tr>\n",
       "      <th>26</th>\n",
       "      <td>Industry: type 9</td>\n",
       "      <td>1.836268e+09</td>\n",
       "    </tr>\n",
       "    <tr>\n",
       "      <th>47</th>\n",
       "      <td>Trade: type 3</td>\n",
       "      <td>1.631459e+09</td>\n",
       "    </tr>\n",
       "    <tr>\n",
       "      <th>40</th>\n",
       "      <td>Security</td>\n",
       "      <td>1.531444e+09</td>\n",
       "    </tr>\n",
       "    <tr>\n",
       "      <th>20</th>\n",
       "      <td>Industry: type 3</td>\n",
       "      <td>1.502803e+09</td>\n",
       "    </tr>\n",
       "    <tr>\n",
       "      <th>31</th>\n",
       "      <td>Military</td>\n",
       "      <td>1.497441e+09</td>\n",
       "    </tr>\n",
       "    <tr>\n",
       "      <th>13</th>\n",
       "      <td>Housing</td>\n",
       "      <td>1.492946e+09</td>\n",
       "    </tr>\n",
       "    <tr>\n",
       "      <th>34</th>\n",
       "      <td>Police</td>\n",
       "      <td>1.424741e+09</td>\n",
       "    </tr>\n",
       "    <tr>\n",
       "      <th>16</th>\n",
       "      <td>Industry: type 11</td>\n",
       "      <td>1.305952e+09</td>\n",
       "    </tr>\n",
       "    <tr>\n",
       "      <th>2</th>\n",
       "      <td>Bank</td>\n",
       "      <td>1.285558e+09</td>\n",
       "    </tr>\n",
       "    <tr>\n",
       "      <th>41</th>\n",
       "      <td>Security Ministries</td>\n",
       "      <td>1.174166e+09</td>\n",
       "    </tr>\n",
       "    <tr>\n",
       "      <th>53</th>\n",
       "      <td>Transport: type 2</td>\n",
       "      <td>1.157955e+09</td>\n",
       "    </tr>\n",
       "    <tr>\n",
       "      <th>1</th>\n",
       "      <td>Agriculture</td>\n",
       "      <td>1.069472e+09</td>\n",
       "    </tr>\n",
       "    <tr>\n",
       "      <th>35</th>\n",
       "      <td>Postal</td>\n",
       "      <td>9.532563e+08</td>\n",
       "    </tr>\n",
       "    <tr>\n",
       "      <th>46</th>\n",
       "      <td>Trade: type 2</td>\n",
       "      <td>8.419775e+08</td>\n",
       "    </tr>\n",
       "    <tr>\n",
       "      <th>56</th>\n",
       "      <td>University</td>\n",
       "      <td>7.902991e+08</td>\n",
       "    </tr>\n",
       "    <tr>\n",
       "      <th>43</th>\n",
       "      <td>Services</td>\n",
       "      <td>7.860219e+08</td>\n",
       "    </tr>\n",
       "    <tr>\n",
       "      <th>38</th>\n",
       "      <td>Restaurant</td>\n",
       "      <td>7.540877e+08</td>\n",
       "    </tr>\n",
       "    <tr>\n",
       "      <th>24</th>\n",
       "      <td>Industry: type 7</td>\n",
       "      <td>6.495403e+08</td>\n",
       "    </tr>\n",
       "    <tr>\n",
       "      <th>14</th>\n",
       "      <td>Industry: type 1</td>\n",
       "      <td>5.120562e+08</td>\n",
       "    </tr>\n",
       "    <tr>\n",
       "      <th>9</th>\n",
       "      <td>Electricity</td>\n",
       "      <td>5.040101e+08</td>\n",
       "    </tr>\n",
       "    <tr>\n",
       "      <th>54</th>\n",
       "      <td>Transport: type 3</td>\n",
       "      <td>4.752648e+08</td>\n",
       "    </tr>\n",
       "    <tr>\n",
       "      <th>12</th>\n",
       "      <td>Hotel</td>\n",
       "      <td>4.615602e+08</td>\n",
       "    </tr>\n",
       "    <tr>\n",
       "      <th>21</th>\n",
       "      <td>Industry: type 4</td>\n",
       "      <td>4.180092e+08</td>\n",
       "    </tr>\n",
       "    <tr>\n",
       "      <th>22</th>\n",
       "      <td>Industry: type 5</td>\n",
       "      <td>3.325347e+08</td>\n",
       "    </tr>\n",
       "    <tr>\n",
       "      <th>50</th>\n",
       "      <td>Trade: type 6</td>\n",
       "      <td>3.290557e+08</td>\n",
       "    </tr>\n",
       "    <tr>\n",
       "      <th>27</th>\n",
       "      <td>Insurance</td>\n",
       "      <td>3.227528e+08</td>\n",
       "    </tr>\n",
       "    <tr>\n",
       "      <th>44</th>\n",
       "      <td>Telecom</td>\n",
       "      <td>3.041601e+08</td>\n",
       "    </tr>\n",
       "    <tr>\n",
       "      <th>10</th>\n",
       "      <td>Emergency</td>\n",
       "      <td>2.891635e+08</td>\n",
       "    </tr>\n",
       "    <tr>\n",
       "      <th>36</th>\n",
       "      <td>Realtor</td>\n",
       "      <td>2.314661e+08</td>\n",
       "    </tr>\n",
       "    <tr>\n",
       "      <th>19</th>\n",
       "      <td>Industry: type 2</td>\n",
       "      <td>2.236353e+08</td>\n",
       "    </tr>\n",
       "    <tr>\n",
       "      <th>0</th>\n",
       "      <td>Advertising</td>\n",
       "      <td>2.226692e+08</td>\n",
       "    </tr>\n",
       "    <tr>\n",
       "      <th>17</th>\n",
       "      <td>Industry: type 12</td>\n",
       "      <td>2.000724e+08</td>\n",
       "    </tr>\n",
       "    <tr>\n",
       "      <th>29</th>\n",
       "      <td>Legal Services</td>\n",
       "      <td>1.973999e+08</td>\n",
       "    </tr>\n",
       "    <tr>\n",
       "      <th>8</th>\n",
       "      <td>Culture</td>\n",
       "      <td>1.913070e+08</td>\n",
       "    </tr>\n",
       "    <tr>\n",
       "      <th>45</th>\n",
       "      <td>Trade: type 1</td>\n",
       "      <td>1.589784e+08</td>\n",
       "    </tr>\n",
       "    <tr>\n",
       "      <th>32</th>\n",
       "      <td>Mobile</td>\n",
       "      <td>1.506363e+08</td>\n",
       "    </tr>\n",
       "    <tr>\n",
       "      <th>6</th>\n",
       "      <td>Cleaning</td>\n",
       "      <td>1.124925e+08</td>\n",
       "    </tr>\n",
       "    <tr>\n",
       "      <th>52</th>\n",
       "      <td>Transport: type 1</td>\n",
       "      <td>1.068638e+08</td>\n",
       "    </tr>\n",
       "    <tr>\n",
       "      <th>15</th>\n",
       "      <td>Industry: type 10</td>\n",
       "      <td>6.485111e+07</td>\n",
       "    </tr>\n",
       "    <tr>\n",
       "      <th>23</th>\n",
       "      <td>Industry: type 6</td>\n",
       "      <td>4.724534e+07</td>\n",
       "    </tr>\n",
       "    <tr>\n",
       "      <th>37</th>\n",
       "      <td>Religion</td>\n",
       "      <td>4.229855e+07</td>\n",
       "    </tr>\n",
       "    <tr>\n",
       "      <th>48</th>\n",
       "      <td>Trade: type 4</td>\n",
       "      <td>3.304678e+07</td>\n",
       "    </tr>\n",
       "    <tr>\n",
       "      <th>18</th>\n",
       "      <td>Industry: type 13</td>\n",
       "      <td>2.623708e+07</td>\n",
       "    </tr>\n",
       "    <tr>\n",
       "      <th>49</th>\n",
       "      <td>Trade: type 5</td>\n",
       "      <td>2.245278e+07</td>\n",
       "    </tr>\n",
       "    <tr>\n",
       "      <th>25</th>\n",
       "      <td>Industry: type 8</td>\n",
       "      <td>1.189535e+07</td>\n",
       "    </tr>\n",
       "  </tbody>\n",
       "</table>\n",
       "</div>"
      ],
      "text/plain": [
       "         ORGANIZATION_TYPE    AMT_CREDIT\n",
       "5   Business Entity Type 3  3.394748e+10\n",
       "57                     XNA  2.411370e+10\n",
       "42           Self-employed  1.715681e+10\n",
       "33                   Other  8.399843e+09\n",
       "30                Medicine  5.879363e+09\n",
       "11              Government  5.410176e+09\n",
       "4   Business Entity Type 2  5.305231e+09\n",
       "39                  School  4.698989e+09\n",
       "51           Trade: type 7  3.663103e+09\n",
       "28            Kindergarten  3.403176e+09\n",
       "7             Construction  3.381182e+09\n",
       "3   Business Entity Type 1  3.119155e+09\n",
       "55       Transport: type 4  2.799078e+09\n",
       "26        Industry: type 9  1.836268e+09\n",
       "47           Trade: type 3  1.631459e+09\n",
       "40                Security  1.531444e+09\n",
       "20        Industry: type 3  1.502803e+09\n",
       "31                Military  1.497441e+09\n",
       "13                 Housing  1.492946e+09\n",
       "34                  Police  1.424741e+09\n",
       "16       Industry: type 11  1.305952e+09\n",
       "2                     Bank  1.285558e+09\n",
       "41     Security Ministries  1.174166e+09\n",
       "53       Transport: type 2  1.157955e+09\n",
       "1              Agriculture  1.069472e+09\n",
       "35                  Postal  9.532563e+08\n",
       "46           Trade: type 2  8.419775e+08\n",
       "56              University  7.902991e+08\n",
       "43                Services  7.860219e+08\n",
       "38              Restaurant  7.540877e+08\n",
       "24        Industry: type 7  6.495403e+08\n",
       "14        Industry: type 1  5.120562e+08\n",
       "9              Electricity  5.040101e+08\n",
       "54       Transport: type 3  4.752648e+08\n",
       "12                   Hotel  4.615602e+08\n",
       "21        Industry: type 4  4.180092e+08\n",
       "22        Industry: type 5  3.325347e+08\n",
       "50           Trade: type 6  3.290557e+08\n",
       "27               Insurance  3.227528e+08\n",
       "44                 Telecom  3.041601e+08\n",
       "10               Emergency  2.891635e+08\n",
       "36                 Realtor  2.314661e+08\n",
       "19        Industry: type 2  2.236353e+08\n",
       "0              Advertising  2.226692e+08\n",
       "17       Industry: type 12  2.000724e+08\n",
       "29          Legal Services  1.973999e+08\n",
       "8                  Culture  1.913070e+08\n",
       "45           Trade: type 1  1.589784e+08\n",
       "32                  Mobile  1.506363e+08\n",
       "6                 Cleaning  1.124925e+08\n",
       "52       Transport: type 1  1.068638e+08\n",
       "15       Industry: type 10  6.485111e+07\n",
       "23        Industry: type 6  4.724534e+07\n",
       "37                Religion  4.229855e+07\n",
       "48           Trade: type 4  3.304678e+07\n",
       "18       Industry: type 13  2.623708e+07\n",
       "49           Trade: type 5  2.245278e+07\n",
       "25        Industry: type 8  1.189535e+07"
      ]
     },
     "execution_count": 101,
     "metadata": {},
     "output_type": "execute_result"
    }
   ],
   "source": [
    "pd.DataFrame(byOrg['AMT_CREDIT'].sum()).reset_index().sort_values('AMT_CREDIT',ascending=False)"
   ]
  },
  {
   "cell_type": "markdown",
   "id": "8417a22f-3a85-4501-9a0f-9fa9b60da110",
   "metadata": {},
   "source": [
    "#### Jumlah kasus"
   ]
  },
  {
   "cell_type": "code",
   "execution_count": 105,
   "id": "5af2db62-c61f-4bdf-85e3-9765b2c9a48b",
   "metadata": {},
   "outputs": [
    {
     "data": {
      "text/html": [
       "<div>\n",
       "<style scoped>\n",
       "    .dataframe tbody tr th:only-of-type {\n",
       "        vertical-align: middle;\n",
       "    }\n",
       "\n",
       "    .dataframe tbody tr th {\n",
       "        vertical-align: top;\n",
       "    }\n",
       "\n",
       "    .dataframe thead th {\n",
       "        text-align: right;\n",
       "    }\n",
       "</style>\n",
       "<table border=\"1\" class=\"dataframe\">\n",
       "  <thead>\n",
       "    <tr style=\"text-align: right;\">\n",
       "      <th></th>\n",
       "      <th>TARGET</th>\n",
       "      <th>No Payment Difficulties</th>\n",
       "      <th>Payment Difficulties</th>\n",
       "    </tr>\n",
       "    <tr>\n",
       "      <th>ORGANIZATION_TYPE</th>\n",
       "      <th></th>\n",
       "      <th></th>\n",
       "      <th></th>\n",
       "    </tr>\n",
       "  </thead>\n",
       "  <tbody>\n",
       "    <tr>\n",
       "      <th>Advertising</th>\n",
       "      <th>TARGET</th>\n",
       "      <td>91.091954</td>\n",
       "      <td>8.908046</td>\n",
       "    </tr>\n",
       "    <tr>\n",
       "      <th>Agriculture</th>\n",
       "      <th>TARGET</th>\n",
       "      <td>90.557940</td>\n",
       "      <td>9.442060</td>\n",
       "    </tr>\n",
       "    <tr>\n",
       "      <th>Bank</th>\n",
       "      <th>TARGET</th>\n",
       "      <td>95.199232</td>\n",
       "      <td>4.800768</td>\n",
       "    </tr>\n",
       "    <tr>\n",
       "      <th>Business Entity Type 1</th>\n",
       "      <th>TARGET</th>\n",
       "      <td>91.816327</td>\n",
       "      <td>8.183673</td>\n",
       "    </tr>\n",
       "    <tr>\n",
       "      <th>Business Entity Type 2</th>\n",
       "      <th>TARGET</th>\n",
       "      <td>91.689342</td>\n",
       "      <td>8.310658</td>\n",
       "    </tr>\n",
       "    <tr>\n",
       "      <th>Business Entity Type 3</th>\n",
       "      <th>TARGET</th>\n",
       "      <td>90.914367</td>\n",
       "      <td>9.085633</td>\n",
       "    </tr>\n",
       "    <tr>\n",
       "      <th>Cleaning</th>\n",
       "      <th>TARGET</th>\n",
       "      <td>91.133005</td>\n",
       "      <td>8.866995</td>\n",
       "    </tr>\n",
       "    <tr>\n",
       "      <th>Construction</th>\n",
       "      <th>TARGET</th>\n",
       "      <td>88.649481</td>\n",
       "      <td>11.350519</td>\n",
       "    </tr>\n",
       "    <tr>\n",
       "      <th>Culture</th>\n",
       "      <th>TARGET</th>\n",
       "      <td>95.364238</td>\n",
       "      <td>4.635762</td>\n",
       "    </tr>\n",
       "    <tr>\n",
       "      <th>Electricity</th>\n",
       "      <th>TARGET</th>\n",
       "      <td>93.890274</td>\n",
       "      <td>6.109726</td>\n",
       "    </tr>\n",
       "    <tr>\n",
       "      <th>Emergency</th>\n",
       "      <th>TARGET</th>\n",
       "      <td>92.916667</td>\n",
       "      <td>7.083333</td>\n",
       "    </tr>\n",
       "    <tr>\n",
       "      <th>Government</th>\n",
       "      <th>TARGET</th>\n",
       "      <td>93.337928</td>\n",
       "      <td>6.662072</td>\n",
       "    </tr>\n",
       "    <tr>\n",
       "      <th>Hotel</th>\n",
       "      <th>TARGET</th>\n",
       "      <td>93.652850</td>\n",
       "      <td>6.347150</td>\n",
       "    </tr>\n",
       "    <tr>\n",
       "      <th>Housing</th>\n",
       "      <th>TARGET</th>\n",
       "      <td>92.407176</td>\n",
       "      <td>7.592824</td>\n",
       "    </tr>\n",
       "    <tr>\n",
       "      <th>Industry: type 1</th>\n",
       "      <th>TARGET</th>\n",
       "      <td>88.601645</td>\n",
       "      <td>11.398355</td>\n",
       "    </tr>\n",
       "    <tr>\n",
       "      <th>Industry: type 10</th>\n",
       "      <th>TARGET</th>\n",
       "      <td>92.391304</td>\n",
       "      <td>7.608696</td>\n",
       "    </tr>\n",
       "    <tr>\n",
       "      <th>Industry: type 11</th>\n",
       "      <th>TARGET</th>\n",
       "      <td>91.655390</td>\n",
       "      <td>8.344610</td>\n",
       "    </tr>\n",
       "    <tr>\n",
       "      <th>Industry: type 12</th>\n",
       "      <th>TARGET</th>\n",
       "      <td>96.296296</td>\n",
       "      <td>3.703704</td>\n",
       "    </tr>\n",
       "    <tr>\n",
       "      <th>Industry: type 13</th>\n",
       "      <th>TARGET</th>\n",
       "      <td>90.909091</td>\n",
       "      <td>9.090909</td>\n",
       "    </tr>\n",
       "    <tr>\n",
       "      <th>Industry: type 2</th>\n",
       "      <th>TARGET</th>\n",
       "      <td>93.246753</td>\n",
       "      <td>6.753247</td>\n",
       "    </tr>\n",
       "    <tr>\n",
       "      <th>Industry: type 3</th>\n",
       "      <th>TARGET</th>\n",
       "      <td>89.599701</td>\n",
       "      <td>10.400299</td>\n",
       "    </tr>\n",
       "    <tr>\n",
       "      <th>Industry: type 4</th>\n",
       "      <th>TARGET</th>\n",
       "      <td>90.156919</td>\n",
       "      <td>9.843081</td>\n",
       "    </tr>\n",
       "    <tr>\n",
       "      <th>Industry: type 5</th>\n",
       "      <th>TARGET</th>\n",
       "      <td>93.023256</td>\n",
       "      <td>6.976744</td>\n",
       "    </tr>\n",
       "    <tr>\n",
       "      <th>Industry: type 6</th>\n",
       "      <th>TARGET</th>\n",
       "      <td>93.023256</td>\n",
       "      <td>6.976744</td>\n",
       "    </tr>\n",
       "    <tr>\n",
       "      <th>Industry: type 7</th>\n",
       "      <th>TARGET</th>\n",
       "      <td>91.904324</td>\n",
       "      <td>8.095676</td>\n",
       "    </tr>\n",
       "    <tr>\n",
       "      <th>Industry: type 8</th>\n",
       "      <th>TARGET</th>\n",
       "      <td>93.750000</td>\n",
       "      <td>6.250000</td>\n",
       "    </tr>\n",
       "    <tr>\n",
       "      <th>Industry: type 9</th>\n",
       "      <th>TARGET</th>\n",
       "      <td>93.550648</td>\n",
       "      <td>6.449352</td>\n",
       "    </tr>\n",
       "    <tr>\n",
       "      <th>Insurance</th>\n",
       "      <th>TARGET</th>\n",
       "      <td>94.193548</td>\n",
       "      <td>5.806452</td>\n",
       "    </tr>\n",
       "    <tr>\n",
       "      <th>Kindergarten</th>\n",
       "      <th>TARGET</th>\n",
       "      <td>93.063985</td>\n",
       "      <td>6.936015</td>\n",
       "    </tr>\n",
       "    <tr>\n",
       "      <th>Legal Services</th>\n",
       "      <th>TARGET</th>\n",
       "      <td>92.975207</td>\n",
       "      <td>7.024793</td>\n",
       "    </tr>\n",
       "    <tr>\n",
       "      <th>Medicine</th>\n",
       "      <th>TARGET</th>\n",
       "      <td>93.526316</td>\n",
       "      <td>6.473684</td>\n",
       "    </tr>\n",
       "    <tr>\n",
       "      <th>Military</th>\n",
       "      <th>TARGET</th>\n",
       "      <td>95.045455</td>\n",
       "      <td>4.954545</td>\n",
       "    </tr>\n",
       "    <tr>\n",
       "      <th>Mobile</th>\n",
       "      <th>TARGET</th>\n",
       "      <td>90.347490</td>\n",
       "      <td>9.652510</td>\n",
       "    </tr>\n",
       "    <tr>\n",
       "      <th>Other</th>\n",
       "      <th>TARGET</th>\n",
       "      <td>92.571045</td>\n",
       "      <td>7.428955</td>\n",
       "    </tr>\n",
       "    <tr>\n",
       "      <th>Police</th>\n",
       "      <th>TARGET</th>\n",
       "      <td>95.394415</td>\n",
       "      <td>4.605585</td>\n",
       "    </tr>\n",
       "    <tr>\n",
       "      <th>Postal</th>\n",
       "      <th>TARGET</th>\n",
       "      <td>91.550117</td>\n",
       "      <td>8.449883</td>\n",
       "    </tr>\n",
       "    <tr>\n",
       "      <th>Realtor</th>\n",
       "      <th>TARGET</th>\n",
       "      <td>90.095847</td>\n",
       "      <td>9.904153</td>\n",
       "    </tr>\n",
       "    <tr>\n",
       "      <th>Religion</th>\n",
       "      <th>TARGET</th>\n",
       "      <td>92.647059</td>\n",
       "      <td>7.352941</td>\n",
       "    </tr>\n",
       "    <tr>\n",
       "      <th>Restaurant</th>\n",
       "      <th>TARGET</th>\n",
       "      <td>88.144330</td>\n",
       "      <td>11.855670</td>\n",
       "    </tr>\n",
       "    <tr>\n",
       "      <th>School</th>\n",
       "      <th>TARGET</th>\n",
       "      <td>94.519269</td>\n",
       "      <td>5.480731</td>\n",
       "    </tr>\n",
       "    <tr>\n",
       "      <th>Security</th>\n",
       "      <th>TARGET</th>\n",
       "      <td>90.290135</td>\n",
       "      <td>9.709865</td>\n",
       "    </tr>\n",
       "    <tr>\n",
       "      <th>Security Ministries</th>\n",
       "      <th>TARGET</th>\n",
       "      <td>95.292767</td>\n",
       "      <td>4.707233</td>\n",
       "    </tr>\n",
       "    <tr>\n",
       "      <th>Self-employed</th>\n",
       "      <th>TARGET</th>\n",
       "      <td>90.167028</td>\n",
       "      <td>9.832972</td>\n",
       "    </tr>\n",
       "    <tr>\n",
       "      <th>Services</th>\n",
       "      <th>TARGET</th>\n",
       "      <td>93.300248</td>\n",
       "      <td>6.699752</td>\n",
       "    </tr>\n",
       "    <tr>\n",
       "      <th>Telecom</th>\n",
       "      <th>TARGET</th>\n",
       "      <td>92.693111</td>\n",
       "      <td>7.306889</td>\n",
       "    </tr>\n",
       "    <tr>\n",
       "      <th>Trade: type 1</th>\n",
       "      <th>TARGET</th>\n",
       "      <td>92.753623</td>\n",
       "      <td>7.246377</td>\n",
       "    </tr>\n",
       "    <tr>\n",
       "      <th>Trade: type 2</th>\n",
       "      <th>TARGET</th>\n",
       "      <td>93.026499</td>\n",
       "      <td>6.973501</td>\n",
       "    </tr>\n",
       "    <tr>\n",
       "      <th>Trade: type 3</th>\n",
       "      <th>TARGET</th>\n",
       "      <td>90.201729</td>\n",
       "      <td>9.798271</td>\n",
       "    </tr>\n",
       "    <tr>\n",
       "      <th>Trade: type 4</th>\n",
       "      <th>TARGET</th>\n",
       "      <td>96.153846</td>\n",
       "      <td>3.846154</td>\n",
       "    </tr>\n",
       "    <tr>\n",
       "      <th>Trade: type 5</th>\n",
       "      <th>TARGET</th>\n",
       "      <td>94.736842</td>\n",
       "      <td>5.263158</td>\n",
       "    </tr>\n",
       "    <tr>\n",
       "      <th>Trade: type 6</th>\n",
       "      <th>TARGET</th>\n",
       "      <td>96.101365</td>\n",
       "      <td>3.898635</td>\n",
       "    </tr>\n",
       "    <tr>\n",
       "      <th>Trade: type 7</th>\n",
       "      <th>TARGET</th>\n",
       "      <td>90.925895</td>\n",
       "      <td>9.074105</td>\n",
       "    </tr>\n",
       "    <tr>\n",
       "      <th>Transport: type 1</th>\n",
       "      <th>TARGET</th>\n",
       "      <td>95.294118</td>\n",
       "      <td>4.705882</td>\n",
       "    </tr>\n",
       "    <tr>\n",
       "      <th>Transport: type 2</th>\n",
       "      <th>TARGET</th>\n",
       "      <td>92.542724</td>\n",
       "      <td>7.457276</td>\n",
       "    </tr>\n",
       "    <tr>\n",
       "      <th>Transport: type 3</th>\n",
       "      <th>TARGET</th>\n",
       "      <td>84.367816</td>\n",
       "      <td>15.632184</td>\n",
       "    </tr>\n",
       "    <tr>\n",
       "      <th>Transport: type 4</th>\n",
       "      <th>TARGET</th>\n",
       "      <td>91.029514</td>\n",
       "      <td>8.970486</td>\n",
       "    </tr>\n",
       "    <tr>\n",
       "      <th>University</th>\n",
       "      <th>TARGET</th>\n",
       "      <td>95.113122</td>\n",
       "      <td>4.886878</td>\n",
       "    </tr>\n",
       "    <tr>\n",
       "      <th>XNA</th>\n",
       "      <th>TARGET</th>\n",
       "      <td>94.835222</td>\n",
       "      <td>5.164778</td>\n",
       "    </tr>\n",
       "  </tbody>\n",
       "</table>\n",
       "</div>"
      ],
      "text/plain": [
       "TARGET                         No Payment Difficulties  Payment Difficulties\n",
       "ORGANIZATION_TYPE                                                           \n",
       "Advertising            TARGET                91.091954              8.908046\n",
       "Agriculture            TARGET                90.557940              9.442060\n",
       "Bank                   TARGET                95.199232              4.800768\n",
       "Business Entity Type 1 TARGET                91.816327              8.183673\n",
       "Business Entity Type 2 TARGET                91.689342              8.310658\n",
       "Business Entity Type 3 TARGET                90.914367              9.085633\n",
       "Cleaning               TARGET                91.133005              8.866995\n",
       "Construction           TARGET                88.649481             11.350519\n",
       "Culture                TARGET                95.364238              4.635762\n",
       "Electricity            TARGET                93.890274              6.109726\n",
       "Emergency              TARGET                92.916667              7.083333\n",
       "Government             TARGET                93.337928              6.662072\n",
       "Hotel                  TARGET                93.652850              6.347150\n",
       "Housing                TARGET                92.407176              7.592824\n",
       "Industry: type 1       TARGET                88.601645             11.398355\n",
       "Industry: type 10      TARGET                92.391304              7.608696\n",
       "Industry: type 11      TARGET                91.655390              8.344610\n",
       "Industry: type 12      TARGET                96.296296              3.703704\n",
       "Industry: type 13      TARGET                90.909091              9.090909\n",
       "Industry: type 2       TARGET                93.246753              6.753247\n",
       "Industry: type 3       TARGET                89.599701             10.400299\n",
       "Industry: type 4       TARGET                90.156919              9.843081\n",
       "Industry: type 5       TARGET                93.023256              6.976744\n",
       "Industry: type 6       TARGET                93.023256              6.976744\n",
       "Industry: type 7       TARGET                91.904324              8.095676\n",
       "Industry: type 8       TARGET                93.750000              6.250000\n",
       "Industry: type 9       TARGET                93.550648              6.449352\n",
       "Insurance              TARGET                94.193548              5.806452\n",
       "Kindergarten           TARGET                93.063985              6.936015\n",
       "Legal Services         TARGET                92.975207              7.024793\n",
       "Medicine               TARGET                93.526316              6.473684\n",
       "Military               TARGET                95.045455              4.954545\n",
       "Mobile                 TARGET                90.347490              9.652510\n",
       "Other                  TARGET                92.571045              7.428955\n",
       "Police                 TARGET                95.394415              4.605585\n",
       "Postal                 TARGET                91.550117              8.449883\n",
       "Realtor                TARGET                90.095847              9.904153\n",
       "Religion               TARGET                92.647059              7.352941\n",
       "Restaurant             TARGET                88.144330             11.855670\n",
       "School                 TARGET                94.519269              5.480731\n",
       "Security               TARGET                90.290135              9.709865\n",
       "Security Ministries    TARGET                95.292767              4.707233\n",
       "Self-employed          TARGET                90.167028              9.832972\n",
       "Services               TARGET                93.300248              6.699752\n",
       "Telecom                TARGET                92.693111              7.306889\n",
       "Trade: type 1          TARGET                92.753623              7.246377\n",
       "Trade: type 2          TARGET                93.026499              6.973501\n",
       "Trade: type 3          TARGET                90.201729              9.798271\n",
       "Trade: type 4          TARGET                96.153846              3.846154\n",
       "Trade: type 5          TARGET                94.736842              5.263158\n",
       "Trade: type 6          TARGET                96.101365              3.898635\n",
       "Trade: type 7          TARGET                90.925895              9.074105\n",
       "Transport: type 1      TARGET                95.294118              4.705882\n",
       "Transport: type 2      TARGET                92.542724              7.457276\n",
       "Transport: type 3      TARGET                84.367816             15.632184\n",
       "Transport: type 4      TARGET                91.029514              8.970486\n",
       "University             TARGET                95.113122              4.886878\n",
       "XNA                    TARGET                94.835222              5.164778"
      ]
     },
     "execution_count": 105,
     "metadata": {},
     "output_type": "execute_result"
    },
    {
     "data": {
      "text/plain": [
       "<Figure size 720x432 with 0 Axes>"
      ]
     },
     "metadata": {},
     "output_type": "display_data"
    }
   ],
   "source": [
    "plt.figure(figsize=(10,6))\n",
    "pd.DataFrame(byOrg['TARGET'].value_counts(normalize=True)*100).stack().unstack(1)"
   ]
  },
  {
   "cell_type": "markdown",
   "id": "3e0c5dc7-8df0-4619-9601-7826a105ebc3",
   "metadata": {},
   "source": [
    "#### Jenis Pekerjaan"
   ]
  },
  {
   "cell_type": "code",
   "execution_count": 107,
   "id": "6f181e3e-e832-4d92-bb2b-c713974caa12",
   "metadata": {},
   "outputs": [],
   "source": [
    "byOccu=df.groupby('OCCUPATION_TYPE')"
   ]
  },
  {
   "cell_type": "code",
   "execution_count": 108,
   "id": "20cd06ca-8eb1-4494-a0d6-850ac5668800",
   "metadata": {},
   "outputs": [
    {
     "data": {
      "text/html": [
       "<div>\n",
       "<style scoped>\n",
       "    .dataframe tbody tr th:only-of-type {\n",
       "        vertical-align: middle;\n",
       "    }\n",
       "\n",
       "    .dataframe tbody tr th {\n",
       "        vertical-align: top;\n",
       "    }\n",
       "\n",
       "    .dataframe thead th {\n",
       "        text-align: right;\n",
       "    }\n",
       "</style>\n",
       "<table border=\"1\" class=\"dataframe\">\n",
       "  <thead>\n",
       "    <tr style=\"text-align: right;\">\n",
       "      <th></th>\n",
       "      <th>OCCUPATION_TYPE</th>\n",
       "      <th>AMT_CREDIT</th>\n",
       "    </tr>\n",
       "  </thead>\n",
       "  <tbody>\n",
       "    <tr>\n",
       "      <th>8</th>\n",
       "      <td>Laborers</td>\n",
       "      <td>2.528252e+10</td>\n",
       "    </tr>\n",
       "    <tr>\n",
       "      <th>3</th>\n",
       "      <td>Core staff</td>\n",
       "      <td>1.439055e+10</td>\n",
       "    </tr>\n",
       "    <tr>\n",
       "      <th>14</th>\n",
       "      <td>Sales staff</td>\n",
       "      <td>1.391744e+10</td>\n",
       "    </tr>\n",
       "    <tr>\n",
       "      <th>10</th>\n",
       "      <td>Managers</td>\n",
       "      <td>1.390954e+10</td>\n",
       "    </tr>\n",
       "    <tr>\n",
       "      <th>4</th>\n",
       "      <td>Drivers</td>\n",
       "      <td>9.025430e+09</td>\n",
       "    </tr>\n",
       "    <tr>\n",
       "      <th>6</th>\n",
       "      <td>High skill tech staff</td>\n",
       "      <td>6.049297e+09</td>\n",
       "    </tr>\n",
       "    <tr>\n",
       "      <th>0</th>\n",
       "      <td>Accountants</td>\n",
       "      <td>5.836028e+09</td>\n",
       "    </tr>\n",
       "    <tr>\n",
       "      <th>11</th>\n",
       "      <td>Medicine staff</td>\n",
       "      <td>4.424604e+09</td>\n",
       "    </tr>\n",
       "    <tr>\n",
       "      <th>16</th>\n",
       "      <td>Security staff</td>\n",
       "      <td>2.965030e+09</td>\n",
       "    </tr>\n",
       "    <tr>\n",
       "      <th>2</th>\n",
       "      <td>Cooking staff</td>\n",
       "      <td>2.543543e+09</td>\n",
       "    </tr>\n",
       "    <tr>\n",
       "      <th>1</th>\n",
       "      <td>Cleaning staff</td>\n",
       "      <td>1.882281e+09</td>\n",
       "    </tr>\n",
       "    <tr>\n",
       "      <th>12</th>\n",
       "      <td>Private service staff</td>\n",
       "      <td>1.280687e+09</td>\n",
       "    </tr>\n",
       "    <tr>\n",
       "      <th>9</th>\n",
       "      <td>Low-skill Laborers</td>\n",
       "      <td>6.824627e+08</td>\n",
       "    </tr>\n",
       "    <tr>\n",
       "      <th>15</th>\n",
       "      <td>Secretaries</td>\n",
       "      <td>6.314562e+08</td>\n",
       "    </tr>\n",
       "    <tr>\n",
       "      <th>17</th>\n",
       "      <td>Waiters/barmen staff</td>\n",
       "      <td>5.147939e+08</td>\n",
       "    </tr>\n",
       "    <tr>\n",
       "      <th>13</th>\n",
       "      <td>Realty agents</td>\n",
       "      <td>3.829991e+08</td>\n",
       "    </tr>\n",
       "    <tr>\n",
       "      <th>5</th>\n",
       "      <td>HR staff</td>\n",
       "      <td>3.086135e+08</td>\n",
       "    </tr>\n",
       "    <tr>\n",
       "      <th>7</th>\n",
       "      <td>IT staff</td>\n",
       "      <td>2.860620e+08</td>\n",
       "    </tr>\n",
       "  </tbody>\n",
       "</table>\n",
       "</div>"
      ],
      "text/plain": [
       "          OCCUPATION_TYPE    AMT_CREDIT\n",
       "8                Laborers  2.528252e+10\n",
       "3              Core staff  1.439055e+10\n",
       "14            Sales staff  1.391744e+10\n",
       "10               Managers  1.390954e+10\n",
       "4                 Drivers  9.025430e+09\n",
       "6   High skill tech staff  6.049297e+09\n",
       "0             Accountants  5.836028e+09\n",
       "11         Medicine staff  4.424604e+09\n",
       "16         Security staff  2.965030e+09\n",
       "2           Cooking staff  2.543543e+09\n",
       "1          Cleaning staff  1.882281e+09\n",
       "12  Private service staff  1.280687e+09\n",
       "9      Low-skill Laborers  6.824627e+08\n",
       "15            Secretaries  6.314562e+08\n",
       "17   Waiters/barmen staff  5.147939e+08\n",
       "13          Realty agents  3.829991e+08\n",
       "5                HR staff  3.086135e+08\n",
       "7                IT staff  2.860620e+08"
      ]
     },
     "execution_count": 108,
     "metadata": {},
     "output_type": "execute_result"
    },
    {
     "data": {
      "image/png": "[encoded data removed]",
      "text/plain": [
       "<Figure size 432x288 with 1 Axes>"
      ]
     },
     "metadata": {
      "needs_background": "light"
     },
     "output_type": "display_data"
    }
   ],
   "source": [
    "sns.barplot(y='OCCUPATION_TYPE', x='AMT_CREDIT',data=pd.DataFrame(byOccu['AMT_CREDIT'].sum()).reset_index().sort_values('AMT_CREDIT',ascending=False),orient='h')\n",
    "plt.title('jumlah pinjaman terbanyak berdasarkan jenis pekerjaan')\n",
    "pd.DataFrame(byOccu['AMT_CREDIT'].sum()).reset_index().sort_values('AMT_CREDIT',ascending=False)"
   ]
  },
  {
   "cell_type": "code",
   "execution_count": 113,
   "id": "72ce88b5-b6b2-4c79-857d-ded2d5eec148",
   "metadata": {},
   "outputs": [
    {
     "data": {
      "text/html": [
       "<div>\n",
       "<style scoped>\n",
       "    .dataframe tbody tr th:only-of-type {\n",
       "        vertical-align: middle;\n",
       "    }\n",
       "\n",
       "    .dataframe tbody tr th {\n",
       "        vertical-align: top;\n",
       "    }\n",
       "\n",
       "    .dataframe thead th {\n",
       "        text-align: right;\n",
       "    }\n",
       "</style>\n",
       "<table border=\"1\" class=\"dataframe\">\n",
       "  <thead>\n",
       "    <tr style=\"text-align: right;\">\n",
       "      <th></th>\n",
       "      <th>TARGET</th>\n",
       "      <th>No Payment Difficulties</th>\n",
       "      <th>Payment Difficulties</th>\n",
       "    </tr>\n",
       "    <tr>\n",
       "      <th>OCCUPATION_TYPE</th>\n",
       "      <th></th>\n",
       "      <th></th>\n",
       "      <th></th>\n",
       "    </tr>\n",
       "  </thead>\n",
       "  <tbody>\n",
       "    <tr>\n",
       "      <th>Accountants</th>\n",
       "      <th>TARGET</th>\n",
       "      <td>95.189130</td>\n",
       "      <td>4.810870</td>\n",
       "    </tr>\n",
       "    <tr>\n",
       "      <th>Cleaning staff</th>\n",
       "      <th>TARGET</th>\n",
       "      <td>90.762061</td>\n",
       "      <td>9.237939</td>\n",
       "    </tr>\n",
       "    <tr>\n",
       "      <th>Cooking staff</th>\n",
       "      <th>TARGET</th>\n",
       "      <td>89.644779</td>\n",
       "      <td>10.355221</td>\n",
       "    </tr>\n",
       "    <tr>\n",
       "      <th>Core staff</th>\n",
       "      <th>TARGET</th>\n",
       "      <td>93.973626</td>\n",
       "      <td>6.026374</td>\n",
       "    </tr>\n",
       "    <tr>\n",
       "      <th>Drivers</th>\n",
       "      <th>TARGET</th>\n",
       "      <td>89.087914</td>\n",
       "      <td>10.912086</td>\n",
       "    </tr>\n",
       "    <tr>\n",
       "      <th>HR staff</th>\n",
       "      <th>TARGET</th>\n",
       "      <td>94.793926</td>\n",
       "      <td>5.206074</td>\n",
       "    </tr>\n",
       "    <tr>\n",
       "      <th>High skill tech staff</th>\n",
       "      <th>TARGET</th>\n",
       "      <td>93.848801</td>\n",
       "      <td>6.151199</td>\n",
       "    </tr>\n",
       "    <tr>\n",
       "      <th>IT staff</th>\n",
       "      <th>TARGET</th>\n",
       "      <td>94.199536</td>\n",
       "      <td>5.800464</td>\n",
       "    </tr>\n",
       "    <tr>\n",
       "      <th>Laborers</th>\n",
       "      <th>TARGET</th>\n",
       "      <td>89.790293</td>\n",
       "      <td>10.209707</td>\n",
       "    </tr>\n",
       "    <tr>\n",
       "      <th>Low-skill Laborers</th>\n",
       "      <th>TARGET</th>\n",
       "      <td>83.298683</td>\n",
       "      <td>16.701317</td>\n",
       "    </tr>\n",
       "    <tr>\n",
       "      <th>Managers</th>\n",
       "      <th>TARGET</th>\n",
       "      <td>93.885194</td>\n",
       "      <td>6.114806</td>\n",
       "    </tr>\n",
       "    <tr>\n",
       "      <th>Medicine staff</th>\n",
       "      <th>TARGET</th>\n",
       "      <td>93.372912</td>\n",
       "      <td>6.627088</td>\n",
       "    </tr>\n",
       "    <tr>\n",
       "      <th>Private service staff</th>\n",
       "      <th>TARGET</th>\n",
       "      <td>93.585859</td>\n",
       "      <td>6.414141</td>\n",
       "    </tr>\n",
       "    <tr>\n",
       "      <th>Realty agents</th>\n",
       "      <th>TARGET</th>\n",
       "      <td>92.631579</td>\n",
       "      <td>7.368421</td>\n",
       "    </tr>\n",
       "    <tr>\n",
       "      <th>Sales staff</th>\n",
       "      <th>TARGET</th>\n",
       "      <td>90.538873</td>\n",
       "      <td>9.461127</td>\n",
       "    </tr>\n",
       "    <tr>\n",
       "      <th>Secretaries</th>\n",
       "      <th>TARGET</th>\n",
       "      <td>93.346008</td>\n",
       "      <td>6.653992</td>\n",
       "    </tr>\n",
       "    <tr>\n",
       "      <th>Security staff</th>\n",
       "      <th>TARGET</th>\n",
       "      <td>89.944561</td>\n",
       "      <td>10.055439</td>\n",
       "    </tr>\n",
       "    <tr>\n",
       "      <th>Waiters/barmen staff</th>\n",
       "      <th>TARGET</th>\n",
       "      <td>89.317507</td>\n",
       "      <td>10.682493</td>\n",
       "    </tr>\n",
       "  </tbody>\n",
       "</table>\n",
       "</div>"
      ],
      "text/plain": [
       "TARGET                        No Payment Difficulties  Payment Difficulties\n",
       "OCCUPATION_TYPE                                                            \n",
       "Accountants           TARGET                95.189130              4.810870\n",
       "Cleaning staff        TARGET                90.762061              9.237939\n",
       "Cooking staff         TARGET                89.644779             10.355221\n",
       "Core staff            TARGET                93.973626              6.026374\n",
       "Drivers               TARGET                89.087914             10.912086\n",
       "HR staff              TARGET                94.793926              5.206074\n",
       "High skill tech staff TARGET                93.848801              6.151199\n",
       "IT staff              TARGET                94.199536              5.800464\n",
       "Laborers              TARGET                89.790293             10.209707\n",
       "Low-skill Laborers    TARGET                83.298683             16.701317\n",
       "Managers              TARGET                93.885194              6.114806\n",
       "Medicine staff        TARGET                93.372912              6.627088\n",
       "Private service staff TARGET                93.585859              6.414141\n",
       "Realty agents         TARGET                92.631579              7.368421\n",
       "Sales staff           TARGET                90.538873              9.461127\n",
       "Secretaries           TARGET                93.346008              6.653992\n",
       "Security staff        TARGET                89.944561             10.055439\n",
       "Waiters/barmen staff  TARGET                89.317507             10.682493"
      ]
     },
     "execution_count": 113,
     "metadata": {},
     "output_type": "execute_result"
    }
   ],
   "source": [
    "pd.DataFrame(byOccu['TARGET'].value_counts(normalize=True)*100).stack().unstack(1)"
   ]
  },
  {
   "cell_type": "markdown",
   "id": "803c4d83-593c-449a-8c97-b17790c4b166",
   "metadata": {},
   "source": [
    "#### Rasio Utang"
   ]
  },
  {
   "cell_type": "code",
   "execution_count": 116,
   "id": "212ce243-2573-4969-ada5-f54e570e5c22",
   "metadata": {},
   "outputs": [],
   "source": [
    "utang, cicilan, pemasukan, harga_barang = df['AMT_CREDIT'], df['AMT_ANNUITY'], df['AMT_INCOME_TOTAL'],df['AMT_GOODS_PRICE']"
   ]
  },
  {
   "cell_type": "code",
   "execution_count": 117,
   "id": "28e8e1c5-e42e-49e2-a45c-343175371d9e",
   "metadata": {},
   "outputs": [
    {
     "data": {
      "image/png": "[encoded data removed]",
      "text/plain": [
       "<Figure size 720x432 with 1 Axes>"
      ]
     },
     "metadata": {
      "needs_background": "light"
     },
     "output_type": "display_data"
    },
    {
     "data": {
      "text/plain": [
       "None"
      ]
     },
     "metadata": {},
     "output_type": "display_data"
    },
    {
     "name": "stdout",
     "output_type": "stream",
     "text": [
      "rasio terkecil : 2.47 %\n",
      "rasio terbesar : 12.44 %\n"
     ]
    }
   ],
   "source": [
    "plt.figure(figsize=(10,6))\n",
    "plt.plot(cicilan/utang*100)\n",
    "plt.title('Rasio Cicilan Terhadap Utang')\n",
    "plt.ylabel('prosentase')\n",
    "plt.xlabel('sample')\n",
    "display(plt.show())\n",
    "print('rasio terkecil :', round(min(cicilan/utang*100),2),'%')\n",
    "print('rasio terbesar :', round(max(cicilan/utang*100),2),'%')"
   ]
  },
  {
   "cell_type": "code",
   "execution_count": 118,
   "id": "90c66248-41c0-43da-a9db-1d1165ae02d3",
   "metadata": {},
   "outputs": [
    {
     "data": {
      "image/png": "[encoded data removed]",
      "text/plain": [
       "<Figure size 720x432 with 1 Axes>"
      ]
     },
     "metadata": {
      "needs_background": "light"
     },
     "output_type": "display_data"
    },
    {
     "data": {
      "text/plain": [
       "None"
      ]
     },
     "metadata": {},
     "output_type": "display_data"
    },
    {
     "name": "stdout",
     "output_type": "stream",
     "text": [
      "rasio terkecil : 0.02 %\n",
      "rasio terbesar : 157.06 %\n"
     ]
    }
   ],
   "source": [
    "plt.figure(figsize=(10,6))\n",
    "plt.plot(cicilan/pemasukan*100)\n",
    "plt.title('Rasio Cicilan Terhadap Pemasukan')\n",
    "plt.ylabel('prosentase')\n",
    "plt.xlabel('sample')\n",
    "display(plt.show())\n",
    "print('rasio terkecil :', round(min(cicilan/pemasukan*100),2),'%')\n",
    "print('rasio terbesar :', round(max(cicilan/pemasukan*100),2),'%')"
   ]
  },
  {
   "cell_type": "code",
   "execution_count": 119,
   "id": "d9dee6fb-0d89-4daa-9424-604912e039aa",
   "metadata": {},
   "outputs": [
    {
     "data": {
      "image/png": "[encoded data removed]",
      "text/plain": [
       "<Figure size 720x432 with 1 Axes>"
      ]
     },
     "metadata": {
      "needs_background": "light"
     },
     "output_type": "display_data"
    },
    {
     "data": {
      "text/plain": [
       "None"
      ]
     },
     "metadata": {},
     "output_type": "display_data"
    },
    {
     "name": "stdout",
     "output_type": "stream",
     "text": [
      "rasio terkecil : 16.67 %\n",
      "rasio terbesar : 666.67 %\n"
     ]
    }
   ],
   "source": [
    "plt.figure(figsize=(10,6))\n",
    "plt.plot(harga_barang/utang*100)\n",
    "plt.title('Rasio Utang Terhadap Harga Barang')\n",
    "plt.ylabel('prosentase')\n",
    "plt.xlabel('sample')\n",
    "display(plt.show())\n",
    "print('rasio terkecil :', round(min(harga_barang/utang*100),2),'%')\n",
    "print('rasio terbesar :', round(max(harga_barang/utang*100),2),'%')"
   ]
  },
  {
   "cell_type": "markdown",
   "id": "73e89810-c9ae-423a-bfee-61adecf82079",
   "metadata": {},
   "source": [
    "### MULTIVARIATE ANALISYS"
   ]
  },
  {
   "cell_type": "markdown",
   "id": "23d23fe4-90b5-486b-aaea-dfcee43ab16c",
   "metadata": {},
   "source": [
    "##### 1. Car Ownership Status, The Number of Children, Target, and House/Flat Ownership Status"
   ]
  },
  {
   "cell_type": "code",
   "execution_count": 138,
   "id": "1be71045-4d41-4991-ae63-dd94a9d9e262",
   "metadata": {},
   "outputs": [
    {
     "data": {
      "image/png": "[encoded data removed]",
      "text/plain": [
       "<Figure size 872.875x360 with 2 Axes>"
      ]
     },
     "metadata": {
      "needs_background": "light"
     },
     "output_type": "display_data"
    }
   ],
   "source": [
    "sns.catplot(x = 'FLAG_OWN_CAR',\n",
    "            y = 'CNT_CHILDREN', \n",
    "            hue = 'TARGET', \n",
    "            col = 'FLAG_OWN_REALTY', \n",
    "            kind = 'bar', palette= ['firebrick', 'orange'],\n",
    "            data = df)\n",
    "plt.show()"
   ]
  },
  {
   "cell_type": "markdown",
   "id": "a5fef505-f039-4180-b492-c6307374d040",
   "metadata": {},
   "source": [
    "Klien yang memiliki mobil dan rumah/rusun memiliki masalah dalam membayar kembali pinjaman untuk jumlah anak yang tinggi dibandingkan dengan klien yang tidak memiliki rumah/rusun."
   ]
  },
  {
   "cell_type": "markdown",
   "id": "647b4756-9d56-40eb-ad5f-de389b406897",
   "metadata": {},
   "source": [
    "##### 2. Income Type, Amount of Goods Price, Target, and House/Flat Ownership Status"
   ]
  },
  {
   "cell_type": "code",
   "execution_count": 139,
   "id": "558ca116-0fbe-41c7-ac86-6f92a7c770bf",
   "metadata": {},
   "outputs": [
    {
     "data": {
      "image/png": "[encoded data removed]",
      "text/plain": [
       "<Figure size 872.875x360 with 2 Axes>"
      ]
     },
     "metadata": {
      "needs_background": "light"
     },
     "output_type": "display_data"
    }
   ],
   "source": [
    "fig = sns.catplot(x = 'NAME_INCOME_TYPE',\n",
    "            y = 'AMT_GOODS_PRICE', \n",
    "            hue = 'TARGET', \n",
    "            col = 'FLAG_OWN_REALTY', \n",
    "            kind = 'bar', palette= ['firebrick', 'orange'],\n",
    "            data = df)\n",
    "\n",
    "fig.set_xticklabels(rotation=45, horizontalalignment='right')\n",
    "plt.show()"
   ]
  },
  {
   "cell_type": "markdown",
   "id": "5f7aee90-6848-49b3-9218-b0b6924c4ce2",
   "metadata": {},
   "source": [
    "Klien dengan jenis pendapatan cuti hamil di FLAG_OWN_REALTY = Ya (yaitu memiliki rumah/flat) memiliki masalah dalam membayar kembali pinjaman dibandingkan dengan ketika FLAG_OWN_REALTY = Tidak (yaitu tidak memiliki rumah/flat)."
   ]
  },
  {
   "cell_type": "markdown",
   "id": "ca5e89b5-ce95-4d5a-b630-695ebc2d8814",
   "metadata": {},
   "source": [
    "##### 3. Family Status, Amount of Income, Target, and House/Flat Ownership Status"
   ]
  },
  {
   "cell_type": "code",
   "execution_count": 140,
   "id": "fce046ca-09e1-487b-a077-c73891f7eef9",
   "metadata": {},
   "outputs": [
    {
     "data": {
      "image/png": "[encoded data removed]",
      "text/plain": [
       "<Figure size 872.875x360 with 2 Axes>"
      ]
     },
     "metadata": {
      "needs_background": "light"
     },
     "output_type": "display_data"
    }
   ],
   "source": [
    "fig = sns.catplot(x = 'NAME_FAMILY_STATUS',\n",
    "            y = 'AMT_INCOME_TOTAL', \n",
    "            hue = 'TARGET', \n",
    "            col = 'FLAG_OWN_REALTY', \n",
    "            kind = 'bar', palette= ['firebrick', 'orange'],\n",
    "            data = df)\n",
    "\n",
    "fig.set_xticklabels(rotation=45, horizontalalignment='right')\n",
    "plt.show()"
   ]
  },
  {
   "cell_type": "markdown",
   "id": "d38ea638-3c83-43a9-863b-bd3031a4edad",
   "metadata": {},
   "source": [
    "Klien yang sudah menikah dan memiliki rumah/rusun (FLAG_OWN_REALTY = Ya) memiliki masalah dalam pembayaran kembali pinjaman untuk pendapatan menengah dibandingkan ketika klien tidak memiliki rumah/rusun (FLAG_OWN_REALTY = Tidak)."
   ]
  },
  {
   "cell_type": "markdown",
   "id": "023063ae-ce34-47dc-9122-3eee70133fa2",
   "metadata": {},
   "source": [
    "#### Grouped by Car Ownership Status"
   ]
  },
  {
   "cell_type": "markdown",
   "id": "2ae8f454-8f36-48e9-8890-e25e0f32330b",
   "metadata": {},
   "source": [
    "##### 1. Contract Type, The Number of Children, Target, and Car Ownership Status"
   ]
  },
  {
   "cell_type": "code",
   "execution_count": 143,
   "id": "11efaddf-c23c-45b1-b640-8cd18ad09305",
   "metadata": {},
   "outputs": [
    {
     "data": {
      "image/png": "[encoded data removed]",
      "text/plain": [
       "<Figure size 872.875x360 with 2 Axes>"
      ]
     },
     "metadata": {
      "needs_background": "light"
     },
     "output_type": "display_data"
    }
   ],
   "source": [
    "sns.catplot(x = 'NAME_CONTRACT_TYPE',\n",
    "            y = 'CNT_CHILDREN', \n",
    "            hue = 'TARGET', \n",
    "            col = 'FLAG_OWN_CAR', \n",
    "            kind = 'bar', palette= ['firebrick', 'orange'],\n",
    "            data = df)\n",
    "plt.show()"
   ]
  },
  {
   "cell_type": "markdown",
   "id": "886348a7-2b4a-4414-9a4b-10baa23ed6b0",
   "metadata": {},
   "source": [
    "Untuk pinjaman bergulir di FLAG_OWN_CAR = Tidak (yaitu tidak memiliki mobil) memiliki masalah dalam membayar kembali pinjaman dibandingkan dengan ketika FLAG_OWN_CAR = Ya (yaitu memiliki mobil)."
   ]
  },
  {
   "cell_type": "markdown",
   "id": "0481e865-b888-4b8d-8572-6d2264d81115",
   "metadata": {},
   "source": [
    "\n",
    "##### Grouped by Contract Type\n",
    "\n",
    "##### 1. Income Type, Amount of Credit, Target, and Contract Type\n"
   ]
  },
  {
   "cell_type": "code",
   "execution_count": 144,
   "id": "a36ee773-1c46-49a0-a99e-05c423123c64",
   "metadata": {},
   "outputs": [
    {
     "data": {
      "image/png": "[encoded data removed]",
      "text/plain": [
       "<Figure size 1080x576 with 2 Axes>"
      ]
     },
     "metadata": {
      "needs_background": "light"
     },
     "output_type": "display_data"
    }
   ],
   "source": [
    "fig = sns.catplot(x = 'NAME_INCOME_TYPE',\n",
    "            y = 'AMT_CREDIT', \n",
    "            hue = 'TARGET', \n",
    "            col = 'NAME_CONTRACT_TYPE', \n",
    "            kind = 'bar', palette= ['firebrick', 'orange'],\n",
    "            data = df)\n",
    "\n",
    "fig.set_xticklabels(rotation=45, horizontalalignment='right')\n",
    "plt.gcf().set_size_inches(15, 8)\n",
    "plt.show()"
   ]
  },
  {
   "cell_type": "markdown",
   "id": "1d1fffc8-edb9-459e-85e6-35e8c41caf53",
   "metadata": {},
   "source": [
    "\n",
    "\n",
    "Untuk jenis pendapatan cuti hamil dengan pinjaman tunai, semua klien memiliki masalah membayar kembali pinjaman untuk jumlah pinjaman kredit menengah. Sementara semua klien dengan cuti hamil dan pinjaman bergulir tidak mengalami kesulitan membayar kembali pinjaman.\n",
    "\n",
    "Untuk klien menganggur dengan pinjaman tunai, lebih dari 50% klien memiliki masalah membayar kembali pinjaman dengan jumlah kredit menengah dari pinjaman. Sementara semua klien yang menganggur dengan pinjaman bergulir tidak mengalami kesulitan membayar kembali pinjaman.\n",
    "\n",
    "Semua klien mahasiswa tidak mengalami kesulitan membayar kembali pinjaman baik dengan pinjaman tunai atau pinjaman bergulir untuk jumlah kredit rendah hingga menengah pinjaman.\n"
   ]
  },
  {
   "cell_type": "markdown",
   "id": "522c3abf-baec-4f61-a777-415ca54153cf",
   "metadata": {},
   "source": [
    "\n",
    "##### Grouped by Rating of Region where Client Lives\n",
    "\n",
    "##### 1. Housing Type, Amount Credit of Loan, Target, and Rating of Region where Client Lives\n"
   ]
  },
  {
   "cell_type": "code",
   "execution_count": 145,
   "id": "d4b7bba5-7efe-4179-847c-11abf4cc0e24",
   "metadata": {},
   "outputs": [
    {
     "data": {
      "image/png": "[encoded data removed]",
      "text/plain": [
       "<Figure size 1232.88x360 with 3 Axes>"
      ]
     },
     "metadata": {
      "needs_background": "light"
     },
     "output_type": "display_data"
    }
   ],
   "source": [
    "fig = sns.catplot(x = 'NAME_HOUSING_TYPE',\n",
    "            y = 'AMT_CREDIT', \n",
    "            hue = 'TARGET', \n",
    "            col = 'REGION_RATING_CLIENT', \n",
    "            kind = 'bar', palette= ['firebrick', 'orange'],\n",
    "            data = df)\n",
    "\n",
    "fig.set_xticklabels(rotation=45, horizontalalignment='right')\n",
    "plt.show()"
   ]
  },
  {
   "cell_type": "markdown",
   "id": "70039db8-fd06-4784-9c42-0ccd7d4b2374",
   "metadata": {},
   "source": [
    "Klien yang tinggal di apartemen sewaan dan apartemen kantor dan wilayahnya memiliki peringkat 1, memiliki masalah dalam membayar kembali pinjaman dibandingkan dengan klien di wilayah dengan peringkat 2 untuk jumlah kredit menengah dari pinjaman."
   ]
  },
  {
   "cell_type": "markdown",
   "id": "ca690f41-ef77-4185-99f2-34bcf23dc86c",
   "metadata": {},
   "source": [
    "##### 2. Education Type, Amount Credit of Loan, Target, and Rating of Region where Client Lives"
   ]
  },
  {
   "cell_type": "code",
   "execution_count": 146,
   "id": "4f1904b6-dfb7-4303-9446-6ed932791713",
   "metadata": {},
   "outputs": [
    {
     "data": {
      "image/png": "[encoded data removed]",
      "text/plain": [
       "<Figure size 1232.88x360 with 3 Axes>"
      ]
     },
     "metadata": {
      "needs_background": "light"
     },
     "output_type": "display_data"
    }
   ],
   "source": [
    "fig = sns.catplot(x = 'NAME_EDUCATION_TYPE',\n",
    "            y = 'AMT_CREDIT', \n",
    "            hue = 'TARGET', \n",
    "            col = 'REGION_RATING_CLIENT', \n",
    "            kind = 'bar', palette= ['firebrick', 'orange'],\n",
    "            data = df)\n",
    "\n",
    "fig.set_xticklabels(rotation=45, horizontalalignment='right')\n",
    "plt.show()"
   ]
  },
  {
   "cell_type": "markdown",
   "id": "2fa1eb44-d129-4bd1-aad6-cb4ef25d82ba",
   "metadata": {},
   "source": [
    "Untuk klien yang memiliki gelar akademik dan tinggal di wilayah dengan rating 2, memiliki masalah dalam membayar kembali pinjaman untuk jumlah kredit yang lebih tinggi. Dan, klien dengan gelar yang sama tetapi tinggal di wilayah dengan peringkat 3 memiliki masalah membayar kembali pinjaman untuk kredit pinjaman dalam jumlah sedang."
   ]
  },
  {
   "cell_type": "markdown",
   "id": "a78be660-8a8d-4a7e-91b6-5db53d858ad3",
   "metadata": {},
   "source": [
    "##### 3. Family Status, Amount Credit of Loan, Target, and Rating of Region where Client Lives"
   ]
  },
  {
   "cell_type": "code",
   "execution_count": 147,
   "id": "edbcb087-033c-46d2-a7b5-92424ff46641",
   "metadata": {},
   "outputs": [
    {
     "data": {
      "image/png": "[encoded data removed]",
      "text/plain": [
       "<Figure size 1232.88x360 with 3 Axes>"
      ]
     },
     "metadata": {
      "needs_background": "light"
     },
     "output_type": "display_data"
    }
   ],
   "source": [
    "fig = sns.catplot(x = 'NAME_FAMILY_STATUS',\n",
    "            y = 'AMT_CREDIT', \n",
    "            hue = 'TARGET', \n",
    "            col = 'REGION_RATING_CLIENT', \n",
    "            kind = 'bar', palette= ['firebrick', 'orange'],\n",
    "            data = df)\n",
    "\n",
    "fig.set_xticklabels(rotation=45, horizontalalignment='right')\n",
    "plt.show()"
   ]
  },
  {
   "cell_type": "markdown",
   "id": "287869ab-2997-4581-9eb4-569867d2691b",
   "metadata": {},
   "source": [
    "\n",
    "\n",
    "Nasabah yang berstatus janda, baik yang berdomisili di wilayah dengan peringkat 1, 2, atau 3, mengalami kesulitan dalam melunasi pinjaman untuk kredit pinjaman dalam jumlah sedang hingga tinggi.\n",
    "\n",
    "Klien yang memiliki status keluarga terpisah, dan tinggal di wilayah dengan peringkat 3, memiliki masalah dalam membayar kembali pinjaman untuk jumlah kredit pinjaman yang moderat dibandingkan dengan klien yang tinggal di wilayah dengan peringkat 1 atau 2.\n"
   ]
  },
  {
   "cell_type": "code",
   "execution_count": null,
   "id": "bccd8d7b-08da-4a5a-99e8-7ea93c42997d",
   "metadata": {},
   "outputs": [],
   "source": []
  },
  {
   "cell_type": "code",
   "execution_count": null,
   "id": "f9cec35d-1c28-4bce-96db-7a4d7601d319",
   "metadata": {},
   "outputs": [],
   "source": []
  },
  {
   "cell_type": "code",
   "execution_count": null,
   "id": "d7048715-8ef8-4891-a09a-82518314c369",
   "metadata": {},
   "outputs": [],
   "source": []
  },
  {
   "cell_type": "code",
   "execution_count": null,
   "id": "b35be0ac-f629-40d4-9df1-e468eda961c9",
   "metadata": {},
   "outputs": [],
   "source": []
  }
 ],
 "metadata": {
  "kernelspec": {
   "display_name": "Python 3 (ipykernel)",
   "language": "python",
   "name": "python3"
  },
  "language_info": {
   "codemirror_mode": {
    "name": "ipython",
    "version": 3
   },
   "file_extension": ".py",
   "mimetype": "text/x-python",
   "name": "python",
   "nbconvert_exporter": "python",
   "pygments_lexer": "ipython3",
   "version": "3.9.12"
  }
 },
 "nbformat": 4,
 "nbformat_minor": 5
}
